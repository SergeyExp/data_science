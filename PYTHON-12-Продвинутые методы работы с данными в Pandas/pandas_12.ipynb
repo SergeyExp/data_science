{
 "cells": [
  {
   "cell_type": "code",
   "execution_count": null,
   "metadata": {},
   "outputs": [],
   "source": [
    "import pandas as pd\n",
    "\n",
    "melb_df = pd.read_csv('data\\melb_data_fe.csv')\n",
    "#melb_df.head()\n",
    "display(melb_df.info())"
   ]
  },
  {
   "cell_type": "code",
   "execution_count": 4,
   "metadata": {},
   "outputs": [],
   "source": [
    "melb_df['Date'] = pd.to_datetime(melb_df['Date'], dayfirst=True)"
   ]
  },
  {
   "cell_type": "code",
   "execution_count": null,
   "metadata": {},
   "outputs": [],
   "source": [
    "\n",
    "# выделяем из даты квартал и согдаем столбец quarter в общей таблице\n",
    "melb_df['quarter'] = melb_df['Date'].dt.quarter\n",
    "melb_df.head()\n"
   ]
  },
  {
   "cell_type": "markdown",
   "metadata": {},
   "source": [
    "Задание 1.1\n",
    "\n"
   ]
  },
  {
   "cell_type": "code",
   "execution_count": 16,
   "metadata": {},
   "outputs": [
    {
     "data": {
      "text/plain": [
       "3    4873\n",
       "2    4359\n",
       "4    2329\n",
       "1    2019\n",
       "Name: quarter, dtype: int64"
      ]
     },
     "execution_count": 16,
     "metadata": {},
     "output_type": "execute_result"
    }
   ],
   "source": [
    "# В качестве ответа запишите число объектов, проданных в этом квартале.\n",
    "melb_df['quarter'].value_counts()"
   ]
  },
  {
   "cell_type": "markdown",
   "metadata": {},
   "source": [
    "Задание 1.2"
   ]
  },
  {
   "cell_type": "code",
   "execution_count": 1,
   "metadata": {},
   "outputs": [
    {
     "ename": "NameError",
     "evalue": "name 'melb_df' is not defined",
     "output_type": "error",
     "traceback": [
      "\u001b[1;31m---------------------------------------------------------------------------\u001b[0m",
      "\u001b[1;31mNameError\u001b[0m                                 Traceback (most recent call last)",
      "Cell \u001b[1;32mIn [1], line 7\u001b[0m\n\u001b[0;32m      5\u001b[0m cols_to_exclude \u001b[39m=\u001b[39m [\u001b[39m'\u001b[39m\u001b[39mDate\u001b[39m\u001b[39m'\u001b[39m, \u001b[39m'\u001b[39m\u001b[39mRooms\u001b[39m\u001b[39m'\u001b[39m, \u001b[39m'\u001b[39m\u001b[39mBedroom\u001b[39m\u001b[39m'\u001b[39m, \u001b[39m'\u001b[39m\u001b[39mBathroom\u001b[39m\u001b[39m'\u001b[39m, \u001b[39m'\u001b[39m\u001b[39mCar\u001b[39m\u001b[39m'\u001b[39m] \u001b[39m# список столбцов, которые мы не берём во внимание\u001b[39;00m\n\u001b[0;32m      6\u001b[0m max_unique_count \u001b[39m=\u001b[39m \u001b[39m150\u001b[39m \u001b[39m# задаём максимальное число уникальных категорий\u001b[39;00m\n\u001b[1;32m----> 7\u001b[0m \u001b[39mfor\u001b[39;00m col \u001b[39min\u001b[39;00m melb_df\u001b[39m.\u001b[39mcolumns: \u001b[39m# цикл по именам столбцов\u001b[39;00m\n\u001b[0;32m      8\u001b[0m     \u001b[39mif\u001b[39;00m melb_df[col]\u001b[39m.\u001b[39mnunique() \u001b[39m<\u001b[39m max_unique_count \u001b[39mand\u001b[39;00m col \u001b[39mnot\u001b[39;00m \u001b[39min\u001b[39;00m cols_to_exclude: \u001b[39m# проверяем условие\u001b[39;00m\n\u001b[0;32m      9\u001b[0m         melb_df[col] \u001b[39m=\u001b[39m melb_df[col]\u001b[39m.\u001b[39mastype(\u001b[39m'\u001b[39m\u001b[39mcategory\u001b[39m\u001b[39m'\u001b[39m) \u001b[39m# преобразуем тип столбца\u001b[39;00m\n",
      "\u001b[1;31mNameError\u001b[0m: name 'melb_df' is not defined"
     ]
    }
   ],
   "source": [
    "# Преобразуйте все столбцы, в которых меньше 150 уникальных значений, \n",
    "# в тип данных category, исключив из преобразования столбцы Date,\n",
    "# Rooms, Bedroom, Bathroom, Car.# В качестве ответа запишите результирующее\n",
    "# количество столбцов, которые имеют тип данных category\n",
    "cols_to_exclude = ['Date', 'Rooms', 'Bedroom', 'Bathroom', 'Car'] # список столбцов, которые мы не берём во внимание\n",
    "max_unique_count = 150 # задаём максимальное число уникальных категорий\n",
    "for col in melb_df.columns: # цикл по именам столбцов\n",
    "    if melb_df[col].nunique() < max_unique_count and col not in cols_to_exclude: # проверяем условие\n",
    "        melb_df[col] = melb_df[col].astype('category') # преобразуем тип столбца\n",
    "display(melb_df.info())"
   ]
  },
  {
   "cell_type": "markdown",
   "metadata": {},
   "source": [
    "2. Сортировка данных в DataFrame"
   ]
  },
  {
   "cell_type": "markdown",
   "metadata": {},
   "source": [
    "МЕТОД SORT_VALUES()"
   ]
  },
  {
   "cell_type": "code",
   "execution_count": null,
   "metadata": {},
   "outputs": [],
   "source": [
    "# Отсортируем таблицу по возрастанию цены объектов недвижимости (Price):\n",
    "melb_df.sort_values(by='Price').head(10)"
   ]
  },
  {
   "cell_type": "code",
   "execution_count": null,
   "metadata": {},
   "outputs": [],
   "source": [
    "# А теперь отсортируем таблицу по убыванию (от самой последней до самой первой) даты продажи объекта (Date)\n",
    "melb_df.sort_values(by='Date', ascending=False)"
   ]
  },
  {
   "cell_type": "markdown",
   "metadata": {},
   "source": [
    "СОРТИРОВКА ПО ЗНАЧЕНИЯМ НЕСКОЛЬКИХ СТОЛБЦОВ"
   ]
  },
  {
   "cell_type": "code",
   "execution_count": null,
   "metadata": {},
   "outputs": [],
   "source": [
    "# Так, например, отсортируем таблицу сначала по возрастанию расстояния от центра города (Distance),\n",
    "# а затем — по возрастанию цены объекта (Price). Для того чтобы вывод был более наглядным, выделим \n",
    "# каждую десятую строку из столбцов Distance и Price результирующей таблицы\n",
    "melb_df.sort_values(by=['Distance', 'Price']).loc[::10, ['Distance', 'Price']]"
   ]
  },
  {
   "cell_type": "markdown",
   "metadata": {},
   "source": [
    "КОМБИНИРОВАНИЕ СОРТИРОВКИ С ФИЛЬТРАЦИЕЙ"
   ]
  },
  {
   "cell_type": "code",
   "execution_count": 27,
   "metadata": {},
   "outputs": [
    {
     "data": {
      "text/html": [
       "<div>\n",
       "<style scoped>\n",
       "    .dataframe tbody tr th:only-of-type {\n",
       "        vertical-align: middle;\n",
       "    }\n",
       "\n",
       "    .dataframe tbody tr th {\n",
       "        vertical-align: top;\n",
       "    }\n",
       "\n",
       "    .dataframe thead th {\n",
       "        text-align: right;\n",
       "    }\n",
       "</style>\n",
       "<table border=\"1\" class=\"dataframe\">\n",
       "  <thead>\n",
       "    <tr style=\"text-align: right;\">\n",
       "      <th></th>\n",
       "      <th>Date</th>\n",
       "      <th>AreaRatio</th>\n",
       "    </tr>\n",
       "  </thead>\n",
       "  <tbody>\n",
       "    <tr>\n",
       "      <th>0</th>\n",
       "      <td>2016-07-26</td>\n",
       "      <td>-0.974922</td>\n",
       "    </tr>\n",
       "    <tr>\n",
       "      <th>1</th>\n",
       "      <td>2016-09-24</td>\n",
       "      <td>-0.971831</td>\n",
       "    </tr>\n",
       "    <tr>\n",
       "      <th>2</th>\n",
       "      <td>2016-11-27</td>\n",
       "      <td>-0.953608</td>\n",
       "    </tr>\n",
       "    <tr>\n",
       "      <th>3</th>\n",
       "      <td>2016-12-11</td>\n",
       "      <td>-0.945946</td>\n",
       "    </tr>\n",
       "    <tr>\n",
       "      <th>4</th>\n",
       "      <td>2017-08-04</td>\n",
       "      <td>-0.947368</td>\n",
       "    </tr>\n",
       "    <tr>\n",
       "      <th>5</th>\n",
       "      <td>2017-08-04</td>\n",
       "      <td>-0.970874</td>\n",
       "    </tr>\n",
       "  </tbody>\n",
       "</table>\n",
       "</div>"
      ],
      "text/plain": [
       "        Date  AreaRatio\n",
       "0 2016-07-26  -0.974922\n",
       "1 2016-09-24  -0.971831\n",
       "2 2016-11-27  -0.953608\n",
       "3 2016-12-11  -0.945946\n",
       "4 2017-08-04  -0.947368\n",
       "5 2017-08-04  -0.970874"
      ]
     },
     "execution_count": 27,
     "metadata": {},
     "output_type": "execute_result"
    }
   ],
   "source": [
    "# Найдём информацию о таунхаусах (Type), проданных компанией (SellerG) McGrath,\n",
    "# у которых коэффициент соотношения площадей здания и участка (AreaRatio) меньше -0.8. \n",
    "# Результат отсортируем по дате продажи (Date) в порядке возрастания, а после проведём \n",
    "# сортировку по убыванию коэффициента соотношения площадей. Также обновим старые индексы на новые\n",
    "# установив параметр ignore_index на True. Для наглядности результата выберем из таблицы \n",
    "# только столбцы Data и AreaRatio:\n",
    "mask1 = melb_df['AreaRatio'] < -0.8\n",
    "mask2 = melb_df['Type'] == 'townhouse'\n",
    "mask3 = melb_df['SellerG'] == 'McGrath'\n",
    "melb_df[mask1 & mask2 & mask3].sort_values(\n",
    "    by=['Date', 'AreaRatio'],\n",
    "    ascending=[True, False],\n",
    "    ignore_index=True\n",
    ").loc[:, ['Date', 'AreaRatio']]"
   ]
  },
  {
   "cell_type": "markdown",
   "metadata": {},
   "source": [
    "Задание 2.2"
   ]
  },
  {
   "cell_type": "code",
   "execution_count": 71,
   "metadata": {},
   "outputs": [
    {
     "data": {
      "text/plain": [
       "BuildingArea    126.0\n",
       "Name: 1558, dtype: object"
      ]
     },
     "execution_count": 71,
     "metadata": {},
     "output_type": "execute_result"
    }
   ],
   "source": [
    "# Произведите сортировку столбца AreaRatio по убыванию. При этом индексы полученной таблицы\n",
    "# замените на новые. Какое значение площади здания находится в строке 1558? Ответ округлите\n",
    "# до целого числа.\n",
    "melb_df_copy = melb_df.copy()\n",
    "melb_df_copy.sort_values(by='AreaRatio', ascending=False, ignore_index=True).loc[1558, ['BuildingArea']]\n"
   ]
  },
  {
   "cell_type": "markdown",
   "metadata": {},
   "source": [
    "Задание 2.3\n"
   ]
  },
  {
   "cell_type": "code",
   "execution_count": 84,
   "metadata": {},
   "outputs": [
    {
     "data": {
      "text/plain": [
       "Price    1300000.0\n",
       "Name: 18, dtype: object"
      ]
     },
     "execution_count": 84,
     "metadata": {},
     "output_type": "execute_result"
    }
   ],
   "source": [
    "# Найдите таунхаусы (Type) с количеством жилых комнат (Rooms) больше 2.\n",
    "# Отсортируйте полученную таблицу сначала по возрастанию числа комнат,\n",
    "# а затем по убыванию средней площади комнат (MeanRoomsSquare).\n",
    "# Индексы таблицы замените на новые. Какая цена будет у объекта в строке 18?\n",
    "# Ответ запишите в виде целого числа.\n",
    "melb_df_copy = melb_df.copy()\n",
    "#melb_df_copy.info()\n",
    "mask1 = melb_df_copy['Rooms'] > 2\n",
    "mask2 = melb_df_copy['Type'] == 'townhouse'\n",
    "melb_df_copy[mask1 & mask2].sort_values(by=['Rooms', 'MeanRoomsSquare'], ascending=[True, False], ignore_index=True).loc[18, ['Price']]\n"
   ]
  },
  {
   "cell_type": "markdown",
   "metadata": {},
   "source": [
    "3. Группировка данных в DataFrame"
   ]
  },
  {
   "cell_type": "markdown",
   "metadata": {},
   "source": [
    "МЕТОД GROUPBY()"
   ]
  },
  {
   "cell_type": "markdown",
   "metadata": {},
   "source": [
    "ГРУППИРОВКА ДАННЫХ ПО ОДНОМУ КРИТЕРИЮ С ОДНОЙ АГРЕГАЦИЕЙ"
   ]
  },
  {
   "cell_type": "code",
   "execution_count": null,
   "metadata": {},
   "outputs": [],
   "source": [
    "# Применим агрегирующую функцию среднего к результату работы groupby().\n",
    "# В качестве столбца для группировки возьмём столбец типа объекта недвижимости (Type):\n",
    "melb_df.groupby(by='Type').mean()"
   ]
  },
  {
   "cell_type": "code",
   "execution_count": 86,
   "metadata": {},
   "outputs": [
    {
     "data": {
      "text/plain": [
       "Type\n",
       "house        1.242665e+06\n",
       "townhouse    9.337351e+05\n",
       "unit         6.051275e+05\n",
       "Name: Price, dtype: float64"
      ]
     },
     "execution_count": 86,
     "metadata": {},
     "output_type": "execute_result"
    }
   ],
   "source": [
    "# Как правило, нам не нужна информация обо всех столбцах,\n",
    "# поэтому агрегирующие методы можно применять только к интересующему нас столбцу\n",
    "melb_df.groupby('Type')['Price'].mean()"
   ]
  },
  {
   "cell_type": "code",
   "execution_count": 87,
   "metadata": {},
   "outputs": [
    {
     "data": {
      "text/plain": [
       "Regionname\n",
       "Western Victoria              29.8\n",
       "Eastern Victoria              25.2\n",
       "Northern Victoria             21.8\n",
       "South-Eastern Metropolitan    14.7\n",
       "Eastern Metropolitan           7.8\n",
       "Western Metropolitan           4.3\n",
       "Southern Metropolitan          0.7\n",
       "Northern Metropolitan          0.0\n",
       "Name: Distance, dtype: float64"
      ]
     },
     "execution_count": 87,
     "metadata": {},
     "output_type": "execute_result"
    }
   ],
   "source": [
    "# Теперь давайте выясним, какие регионы (Regionname) наиболее удалены от центра Мельбурна.\n",
    "# Для этого найдём минимальное значение расстояния от центра города до объекта\n",
    "# в зависимости от его региона. Результат отсортируем по убыванию расстояния:\n",
    "melb_df.groupby('Regionname')['Distance'].min().sort_values(ascending=False)"
   ]
  },
  {
   "cell_type": "markdown",
   "metadata": {},
   "source": [
    "ГРУППИРОВКА ДАННЫХ ПО ОДНОМУ КРИТЕРИЮ С НЕСКОЛЬКИМИ АГРЕГАЦИЯМИ"
   ]
  },
  {
   "cell_type": "code",
   "execution_count": 88,
   "metadata": {},
   "outputs": [
    {
     "data": {
      "text/html": [
       "<div>\n",
       "<style scoped>\n",
       "    .dataframe tbody tr th:only-of-type {\n",
       "        vertical-align: middle;\n",
       "    }\n",
       "\n",
       "    .dataframe tbody tr th {\n",
       "        vertical-align: top;\n",
       "    }\n",
       "\n",
       "    .dataframe thead th {\n",
       "        text-align: right;\n",
       "    }\n",
       "</style>\n",
       "<table border=\"1\" class=\"dataframe\">\n",
       "  <thead>\n",
       "    <tr style=\"text-align: right;\">\n",
       "      <th></th>\n",
       "      <th>count</th>\n",
       "      <th>mean</th>\n",
       "      <th>max</th>\n",
       "    </tr>\n",
       "    <tr>\n",
       "      <th>MonthSale</th>\n",
       "      <th></th>\n",
       "      <th></th>\n",
       "      <th></th>\n",
       "    </tr>\n",
       "  </thead>\n",
       "  <tbody>\n",
       "    <tr>\n",
       "      <th>8</th>\n",
       "      <td>1850</td>\n",
       "      <td>1.056371e+06</td>\n",
       "      <td>6500000.0</td>\n",
       "    </tr>\n",
       "    <tr>\n",
       "      <th>7</th>\n",
       "      <td>1835</td>\n",
       "      <td>9.314698e+05</td>\n",
       "      <td>9000000.0</td>\n",
       "    </tr>\n",
       "    <tr>\n",
       "      <th>5</th>\n",
       "      <td>1644</td>\n",
       "      <td>1.097807e+06</td>\n",
       "      <td>8000000.0</td>\n",
       "    </tr>\n",
       "    <tr>\n",
       "      <th>6</th>\n",
       "      <td>1469</td>\n",
       "      <td>1.068981e+06</td>\n",
       "      <td>7650000.0</td>\n",
       "    </tr>\n",
       "    <tr>\n",
       "      <th>3</th>\n",
       "      <td>1408</td>\n",
       "      <td>1.146762e+06</td>\n",
       "      <td>5600000.0</td>\n",
       "    </tr>\n",
       "    <tr>\n",
       "      <th>4</th>\n",
       "      <td>1246</td>\n",
       "      <td>1.050479e+06</td>\n",
       "      <td>5500000.0</td>\n",
       "    </tr>\n",
       "    <tr>\n",
       "      <th>9</th>\n",
       "      <td>1188</td>\n",
       "      <td>1.126349e+06</td>\n",
       "      <td>6400000.0</td>\n",
       "    </tr>\n",
       "    <tr>\n",
       "      <th>10</th>\n",
       "      <td>854</td>\n",
       "      <td>1.135970e+06</td>\n",
       "      <td>6250000.0</td>\n",
       "    </tr>\n",
       "    <tr>\n",
       "      <th>11</th>\n",
       "      <td>750</td>\n",
       "      <td>1.142503e+06</td>\n",
       "      <td>5050000.0</td>\n",
       "    </tr>\n",
       "    <tr>\n",
       "      <th>12</th>\n",
       "      <td>725</td>\n",
       "      <td>1.144737e+06</td>\n",
       "      <td>5700000.0</td>\n",
       "    </tr>\n",
       "    <tr>\n",
       "      <th>2</th>\n",
       "      <td>333</td>\n",
       "      <td>1.169051e+06</td>\n",
       "      <td>4735000.0</td>\n",
       "    </tr>\n",
       "    <tr>\n",
       "      <th>1</th>\n",
       "      <td>278</td>\n",
       "      <td>9.397921e+05</td>\n",
       "      <td>5200000.0</td>\n",
       "    </tr>\n",
       "  </tbody>\n",
       "</table>\n",
       "</div>"
      ],
      "text/plain": [
       "           count          mean        max\n",
       "MonthSale                                \n",
       "8           1850  1.056371e+06  6500000.0\n",
       "7           1835  9.314698e+05  9000000.0\n",
       "5           1644  1.097807e+06  8000000.0\n",
       "6           1469  1.068981e+06  7650000.0\n",
       "3           1408  1.146762e+06  5600000.0\n",
       "4           1246  1.050479e+06  5500000.0\n",
       "9           1188  1.126349e+06  6400000.0\n",
       "10           854  1.135970e+06  6250000.0\n",
       "11           750  1.142503e+06  5050000.0\n",
       "12           725  1.144737e+06  5700000.0\n",
       "2            333  1.169051e+06  4735000.0\n",
       "1            278  9.397921e+05  5200000.0"
      ]
     },
     "execution_count": 88,
     "metadata": {},
     "output_type": "execute_result"
    }
   ],
   "source": [
    "# Давайте построим таблицу для анализа продаж по месяцам. Для этого найдём количество продаж,\n",
    "# а также среднее и максимальное значения цен объектов недвижимости (Price),\n",
    "# сгруппированных по номеру месяца продажи (MonthSale). Результат отсортируем\n",
    "# по количеству продаж в порядке убывания:\n",
    "melb_df.groupby('MonthSale')['Price'].agg(\n",
    "    ['count', 'mean', 'max']\n",
    ").sort_values(by='count', ascending=False)"
   ]
  },
  {
   "cell_type": "code",
   "execution_count": null,
   "metadata": {},
   "outputs": [],
   "source": [
    "# Более того, метод agg() поддерживает использование и других функций.\n",
    "# Передадим дополнительно встроенную функцию set, чтобы получить множество\n",
    "# из агентств недвижимости, которые работают в каждом из регионов:\n",
    "melb_df.groupby('Regionname')['SellerG'].agg(\n",
    "    \t\t['nunique', set]\n",
    ")"
   ]
  },
  {
   "cell_type": "markdown",
   "metadata": {},
   "source": [
    "Задание 3.1"
   ]
  },
  {
   "cell_type": "code",
   "execution_count": 101,
   "metadata": {},
   "outputs": [
    {
     "data": {
      "text/plain": [
       "Rooms\n",
       "7     1.920700e+06\n",
       "5     1.870260e+06\n",
       "6     1.849366e+06\n",
       "8     1.602750e+06\n",
       "4     1.445282e+06\n",
       "3     1.076081e+06\n",
       "10    9.000000e+05\n",
       "2     7.750812e+05\n",
       "1     4.338245e+05\n",
       "Name: Price, dtype: float64"
      ]
     },
     "execution_count": 101,
     "metadata": {},
     "output_type": "execute_result"
    }
   ],
   "source": [
    "# Сгруппируйте данные по признаку количества комнат и найдите среднюю цену\n",
    "# объектов недвижимости в каждой группе. В качестве ответа запишите количество комнат, \n",
    "# для которых средняя цена наибольшая.\n",
    "melb_df.groupby('Rooms')['Price'].mean().sort_values(ascending=False)"
   ]
  },
  {
   "cell_type": "markdown",
   "metadata": {},
   "source": [
    "Задание 3.2"
   ]
  },
  {
   "cell_type": "code",
   "execution_count": null,
   "metadata": {},
   "outputs": [],
   "source": [
    "# Какой регион имеет наименьшее стандартное отклонение\n",
    "# по географической широте (Lattitude)?\n",
    "melb_df.groupby('Regionname')['Price'].std().sort_values(ascending=False)\n",
    "melb_df\n",
    "\n",
    "\n"
   ]
  },
  {
   "cell_type": "markdown",
   "metadata": {},
   "source": [
    "Задание 3.3"
   ]
  },
  {
   "cell_type": "code",
   "execution_count": null,
   "metadata": {},
   "outputs": [],
   "source": [
    "# Какая риелторская компания (SellerG) имеет наименьшую общую выручку за период \n",
    "# с 1 мая по 1 сентября (включительно) 2017 года?\n",
    "#Для ответа на этот вопрос рассчитайте сумму продаж (Price) каждой компании в заданный период.\n",
    "period = melb_df['Date'] >= '2017-05-01'\n",
    "period_ = '2017-09-01' >= melb_df['Date']\n",
    "melb_df[period & period_].groupby('SellerG')['Price'].sum().sort_values(ascending=False)\n"
   ]
  },
  {
   "cell_type": "markdown",
   "metadata": {},
   "source": [
    "4. Сводные таблицы"
   ]
  },
  {
   "cell_type": "markdown",
   "metadata": {},
   "source": [
    "МЕТОД GROUPBY КАК СПОСОБ ПОСТРОЕНИЯ СВОДНЫХ ТАБЛИЦ"
   ]
  },
  {
   "cell_type": "code",
   "execution_count": null,
   "metadata": {},
   "outputs": [],
   "source": [
    "melb_df.groupby('Rooms')[['Price', 'BuildingArea']].median()\n",
    "# Series с иерархическими индексами\n",
    "melb_df.groupby(['Rooms', 'Type'])['Price'].mean()\n",
    "# переопределить вложенный индекс в виде столбцов таблицы\n",
    "melb_df.groupby(['Rooms', 'Type'])['Price'].mean().unstack()"
   ]
  },
  {
   "cell_type": "markdown",
   "metadata": {},
   "source": [
    "МЕТОД PIVOT_TABLE ДЛЯ ПОСТРОЕНИЯ СВОДНЫХ ТАБЛИЦ"
   ]
  },
  {
   "cell_type": "code",
   "execution_count": null,
   "metadata": {},
   "outputs": [],
   "source": [
    "melb_df.pivot_table(\n",
    "    values='Price',\n",
    "    index='Rooms',\n",
    "    columns='Type',\n",
    "    fill_value=0\n",
    ").round()"
   ]
  },
  {
   "cell_type": "code",
   "execution_count": 4,
   "metadata": {},
   "outputs": [
    {
     "data": {
      "text/html": [
       "<div>\n",
       "<style scoped>\n",
       "    .dataframe tbody tr th:only-of-type {\n",
       "        vertical-align: middle;\n",
       "    }\n",
       "\n",
       "    .dataframe tbody tr th {\n",
       "        vertical-align: top;\n",
       "    }\n",
       "\n",
       "    .dataframe thead th {\n",
       "        text-align: right;\n",
       "    }\n",
       "</style>\n",
       "<table border=\"1\" class=\"dataframe\">\n",
       "  <thead>\n",
       "    <tr style=\"text-align: right;\">\n",
       "      <th>Weekend</th>\n",
       "      <th>0</th>\n",
       "      <th>1</th>\n",
       "    </tr>\n",
       "    <tr>\n",
       "      <th>Regionname</th>\n",
       "      <th></th>\n",
       "      <th></th>\n",
       "    </tr>\n",
       "  </thead>\n",
       "  <tbody>\n",
       "    <tr>\n",
       "      <th>Eastern Metropolitan</th>\n",
       "      <td>447</td>\n",
       "      <td>1024</td>\n",
       "    </tr>\n",
       "    <tr>\n",
       "      <th>Eastern Victoria</th>\n",
       "      <td>13</td>\n",
       "      <td>40</td>\n",
       "    </tr>\n",
       "    <tr>\n",
       "      <th>Northern Metropolitan</th>\n",
       "      <td>1258</td>\n",
       "      <td>2632</td>\n",
       "    </tr>\n",
       "    <tr>\n",
       "      <th>Northern Victoria</th>\n",
       "      <td>11</td>\n",
       "      <td>30</td>\n",
       "    </tr>\n",
       "    <tr>\n",
       "      <th>South-Eastern Metropolitan</th>\n",
       "      <td>123</td>\n",
       "      <td>327</td>\n",
       "    </tr>\n",
       "    <tr>\n",
       "      <th>Southern Metropolitan</th>\n",
       "      <td>1534</td>\n",
       "      <td>3161</td>\n",
       "    </tr>\n",
       "    <tr>\n",
       "      <th>Western Metropolitan</th>\n",
       "      <td>960</td>\n",
       "      <td>1988</td>\n",
       "    </tr>\n",
       "    <tr>\n",
       "      <th>Western Victoria</th>\n",
       "      <td>8</td>\n",
       "      <td>24</td>\n",
       "    </tr>\n",
       "  </tbody>\n",
       "</table>\n",
       "</div>"
      ],
      "text/plain": [
       "Weekend                        0     1\n",
       "Regionname                            \n",
       "Eastern Metropolitan         447  1024\n",
       "Eastern Victoria              13    40\n",
       "Northern Metropolitan       1258  2632\n",
       "Northern Victoria             11    30\n",
       "South-Eastern Metropolitan   123   327\n",
       "Southern Metropolitan       1534  3161\n",
       "Western Metropolitan         960  1988\n",
       "Western Victoria               8    24"
      ]
     },
     "execution_count": 4,
     "metadata": {},
     "output_type": "execute_result"
    }
   ],
   "source": [
    "melb_df.pivot_table(\n",
    "    values='Price',\n",
    "    index='Regionname',\n",
    "    columns='Weekend',\n",
    "    aggfunc='count'\n",
    ")"
   ]
  },
  {
   "cell_type": "code",
   "execution_count": null,
   "metadata": {},
   "outputs": [],
   "source": [
    "# передать в аргумент aggfunc список из агрегирующих функций.\n",
    "melb_df.pivot_table(\n",
    "    values='Landsize',\n",
    "    index='Regionname',\n",
    "    columns='Type',\n",
    "    aggfunc=['median', 'mean'],\n",
    "    fill_value=0\n",
    ")"
   ]
  },
  {
   "cell_type": "markdown",
   "metadata": {},
   "source": [
    "МНОГОМЕРНЫЕ СВОДНЫЕ ТАБЛИЦЫ"
   ]
  },
  {
   "cell_type": "code",
   "execution_count": null,
   "metadata": {},
   "outputs": [],
   "source": [
    "melb_df.pivot_table(\n",
    "    values='Price',\n",
    "    index=['Method','Type'],\n",
    "    columns='Regionname',\n",
    "    aggfunc='median',\n",
    "    fill_value=0\n",
    ")"
   ]
  },
  {
   "cell_type": "markdown",
   "metadata": {},
   "source": [
    "ДОСТУП К ДАННЫМ В СВОДНОЙ ТАБЛИЦЕ"
   ]
  },
  {
   "cell_type": "code",
   "execution_count": null,
   "metadata": {},
   "outputs": [],
   "source": [
    "pivot = melb_df.pivot_table(\n",
    "    values='Landsize',\n",
    "    index='Regionname',\n",
    "    columns='Type',\n",
    "    aggfunc=['median', 'mean'],\n",
    "    fill_value=0\n",
    ")\n",
    "pivot.columns\n",
    "#  из таблицы pivot мы можем получить средние значения площадей участков \n",
    "# для типа здания unit, просто последовательно обратившись по имени столбцов:\n",
    "display(pivot['mean']['unit'])"
   ]
  },
  {
   "cell_type": "code",
   "execution_count": 138,
   "metadata": {},
   "outputs": [
    {
     "data": {
      "text/html": [
       "<div>\n",
       "<style scoped>\n",
       "    .dataframe tbody tr th:only-of-type {\n",
       "        vertical-align: middle;\n",
       "    }\n",
       "\n",
       "    .dataframe tbody tr th {\n",
       "        vertical-align: top;\n",
       "    }\n",
       "\n",
       "    .dataframe thead tr th {\n",
       "        text-align: left;\n",
       "    }\n",
       "\n",
       "    .dataframe thead tr:last-of-type th {\n",
       "        text-align: right;\n",
       "    }\n",
       "</style>\n",
       "<table border=\"1\" class=\"dataframe\">\n",
       "  <thead>\n",
       "    <tr>\n",
       "      <th></th>\n",
       "      <th colspan=\"3\" halign=\"left\">median</th>\n",
       "      <th colspan=\"3\" halign=\"left\">mean</th>\n",
       "    </tr>\n",
       "    <tr>\n",
       "      <th>Type</th>\n",
       "      <th>house</th>\n",
       "      <th>townhouse</th>\n",
       "      <th>unit</th>\n",
       "      <th>house</th>\n",
       "      <th>townhouse</th>\n",
       "      <th>unit</th>\n",
       "    </tr>\n",
       "    <tr>\n",
       "      <th>Regionname</th>\n",
       "      <th></th>\n",
       "      <th></th>\n",
       "      <th></th>\n",
       "      <th></th>\n",
       "      <th></th>\n",
       "      <th></th>\n",
       "    </tr>\n",
       "  </thead>\n",
       "  <tbody>\n",
       "    <tr>\n",
       "      <th>Southern Metropolitan</th>\n",
       "      <td>586.0</td>\n",
       "      <td>246.0</td>\n",
       "      <td>0</td>\n",
       "      <td>569.643881</td>\n",
       "      <td>278.858824</td>\n",
       "      <td>466.380245</td>\n",
       "    </tr>\n",
       "    <tr>\n",
       "      <th>Western Metropolitan</th>\n",
       "      <td>531.0</td>\n",
       "      <td>198.0</td>\n",
       "      <td>62</td>\n",
       "      <td>507.883406</td>\n",
       "      <td>244.560669</td>\n",
       "      <td>557.637232</td>\n",
       "    </tr>\n",
       "  </tbody>\n",
       "</table>\n",
       "</div>"
      ],
      "text/plain": [
       "                      median                       mean              \\\n",
       "Type                   house townhouse unit       house   townhouse   \n",
       "Regionname                                                            \n",
       "Southern Metropolitan  586.0     246.0    0  569.643881  278.858824   \n",
       "Western Metropolitan   531.0     198.0   62  507.883406  244.560669   \n",
       "\n",
       "                                   \n",
       "Type                         unit  \n",
       "Regionname                         \n",
       "Southern Metropolitan  466.380245  \n",
       "Western Metropolitan   557.637232  "
      ]
     },
     "metadata": {},
     "output_type": "display_data"
    }
   ],
   "source": [
    "# Аналогично производится и фильтрация данных. Например, если нам нужны регионы, \n",
    "# в которых средняя площадь здания для домов типа house меньше их медианной площади, \n",
    "# то мы можем найти их следующим образом:\n",
    "mask = pivot['mean']['house'] < pivot['median']['house']\n",
    "filtered_pivot = pivot[mask]\n",
    "display(filtered_pivot)\n"
   ]
  },
  {
   "cell_type": "code",
   "execution_count": 139,
   "metadata": {},
   "outputs": [
    {
     "name": "stdout",
     "output_type": "stream",
     "text": [
      "['Southern Metropolitan', 'Western Metropolitan']\n"
     ]
    }
   ],
   "source": [
    "# Чтобы получить индексы отфильтрованной таблицы, можно воспользоваться атрибутом index\n",
    "# и обернуть результат в список:\n",
    "print(list(filtered_pivot.index))"
   ]
  },
  {
   "cell_type": "markdown",
   "metadata": {},
   "source": [
    "Задание 4.2"
   ]
  },
  {
   "cell_type": "code",
   "execution_count": 2,
   "metadata": {},
   "outputs": [
    {
     "ename": "NameError",
     "evalue": "name 'melb_df' is not defined",
     "output_type": "error",
     "traceback": [
      "\u001b[1;31m---------------------------------------------------------------------------\u001b[0m",
      "\u001b[1;31mNameError\u001b[0m                                 Traceback (most recent call last)",
      "Cell \u001b[1;32mIn [2], line 6\u001b[0m\n\u001b[0;32m      1\u001b[0m \u001b[39m# Составьте сводную таблицу, которая показывает зависимость медианной площади (BuildingArea)\u001b[39;00m\n\u001b[0;32m      2\u001b[0m \u001b[39m# здания от типа объекта недвижимости (Type) и количества жилых комнат в доме (Rooms).\u001b[39;00m\n\u001b[0;32m      3\u001b[0m \u001b[39m# Для какой комбинации признаков площадь здания наибольшая?\u001b[39;00m\n\u001b[0;32m      4\u001b[0m \u001b[39mimport\u001b[39;00m \u001b[39mnumpy\u001b[39;00m \u001b[39mas\u001b[39;00m \u001b[39mnp\u001b[39;00m\n\u001b[1;32m----> 6\u001b[0m melb_df\u001b[39m.\u001b[39mpivot_table(\n\u001b[0;32m      7\u001b[0m     values\u001b[39m=\u001b[39m\u001b[39m'\u001b[39m\u001b[39mBuildingArea\u001b[39m\u001b[39m'\u001b[39m,\n\u001b[0;32m      8\u001b[0m     index\u001b[39m=\u001b[39m\u001b[39m'\u001b[39m\u001b[39mRooms\u001b[39m\u001b[39m'\u001b[39m,\n\u001b[0;32m      9\u001b[0m     columns\u001b[39m=\u001b[39m\u001b[39m'\u001b[39m\u001b[39mType\u001b[39m\u001b[39m'\u001b[39m,\n\u001b[0;32m     10\u001b[0m     fill_value\u001b[39m=\u001b[39m\u001b[39m0\u001b[39m,\n\u001b[0;32m     11\u001b[0m     aggfunc\u001b[39m=\u001b[39mnp\u001b[39m.\u001b[39mmedian\n\u001b[0;32m     12\u001b[0m )\u001b[39m.\u001b[39mround()\n",
      "\u001b[1;31mNameError\u001b[0m: name 'melb_df' is not defined"
     ]
    }
   ],
   "source": [
    "# Составьте сводную таблицу, которая показывает зависимость медианной площади (BuildingArea)\n",
    "# здания от типа объекта недвижимости (Type) и количества жилых комнат в доме (Rooms).\n",
    "# Для какой комбинации признаков площадь здания наибольшая?\n",
    "import numpy as np\n",
    "\n",
    "melb_df.pivot_table(\n",
    "    values='BuildingArea',\n",
    "    index='Rooms',\n",
    "    columns='Type',\n",
    "    fill_value=0,\n",
    "    aggfunc=np.median\n",
    ").round()"
   ]
  },
  {
   "cell_type": "markdown",
   "metadata": {},
   "source": [
    "Задание 4.3"
   ]
  },
  {
   "cell_type": "code",
   "execution_count": null,
   "metadata": {},
   "outputs": [],
   "source": [
    "# Составьте сводную таблицу, которая показывает зависимость медианной цены объекта\n",
    "# недвижимости (Price) от риелторского агентства (SellerG) и типа здания (Type).\n",
    "# Во вновь созданной таблице найдите агентство, у которого медианная цена для зданий \n",
    "# типа unit максимальна. \n",
    "melb_df_unit_max = melb_df.pivot_table(\n",
    "    values='Price',\n",
    "    index='SellerG',\n",
    "    columns='Type',\n",
    "    fill_value=0,\n",
    "    aggfunc=np.median\n",
    ").round()\n",
    "melb_df_unit_max['unit'].max()"
   ]
  },
  {
   "cell_type": "markdown",
   "metadata": {},
   "source": [
    "5. Объединение DataFrame: знакомимся с новыми данными"
   ]
  },
  {
   "cell_type": "code",
   "execution_count": 34,
   "metadata": {},
   "outputs": [
    {
     "data": {
      "text/html": [
       "<div>\n",
       "<style scoped>\n",
       "    .dataframe tbody tr th:only-of-type {\n",
       "        vertical-align: middle;\n",
       "    }\n",
       "\n",
       "    .dataframe tbody tr th {\n",
       "        vertical-align: top;\n",
       "    }\n",
       "\n",
       "    .dataframe thead th {\n",
       "        text-align: right;\n",
       "    }\n",
       "</style>\n",
       "<table border=\"1\" class=\"dataframe\">\n",
       "  <thead>\n",
       "    <tr style=\"text-align: right;\">\n",
       "      <th></th>\n",
       "      <th>movieId</th>\n",
       "      <th>title</th>\n",
       "      <th>genres</th>\n",
       "    </tr>\n",
       "  </thead>\n",
       "  <tbody>\n",
       "    <tr>\n",
       "      <th>0</th>\n",
       "      <td>1</td>\n",
       "      <td>Toy Story (1995)</td>\n",
       "      <td>Adventure|Animation|Children|Comedy|Fantasy</td>\n",
       "    </tr>\n",
       "    <tr>\n",
       "      <th>1</th>\n",
       "      <td>2</td>\n",
       "      <td>Jumanji (1995)</td>\n",
       "      <td>Adventure|Children|Fantasy</td>\n",
       "    </tr>\n",
       "    <tr>\n",
       "      <th>2</th>\n",
       "      <td>3</td>\n",
       "      <td>Grumpier Old Men (1995)</td>\n",
       "      <td>Comedy|Romance</td>\n",
       "    </tr>\n",
       "    <tr>\n",
       "      <th>3</th>\n",
       "      <td>4</td>\n",
       "      <td>Waiting to Exhale (1995)</td>\n",
       "      <td>Comedy|Drama|Romance</td>\n",
       "    </tr>\n",
       "    <tr>\n",
       "      <th>4</th>\n",
       "      <td>5</td>\n",
       "      <td>Father of the Bride Part II (1995)</td>\n",
       "      <td>Comedy</td>\n",
       "    </tr>\n",
       "    <tr>\n",
       "      <th>...</th>\n",
       "      <td>...</td>\n",
       "      <td>...</td>\n",
       "      <td>...</td>\n",
       "    </tr>\n",
       "    <tr>\n",
       "      <th>9737</th>\n",
       "      <td>193581</td>\n",
       "      <td>Black Butler: Book of the Atlantic (2017)</td>\n",
       "      <td>Action|Animation|Comedy|Fantasy</td>\n",
       "    </tr>\n",
       "    <tr>\n",
       "      <th>9738</th>\n",
       "      <td>193583</td>\n",
       "      <td>No Game No Life: Zero (2017)</td>\n",
       "      <td>Animation|Comedy|Fantasy</td>\n",
       "    </tr>\n",
       "    <tr>\n",
       "      <th>9739</th>\n",
       "      <td>193585</td>\n",
       "      <td>Flint (2017)</td>\n",
       "      <td>Drama</td>\n",
       "    </tr>\n",
       "    <tr>\n",
       "      <th>9740</th>\n",
       "      <td>193587</td>\n",
       "      <td>Bungo Stray Dogs: Dead Apple (2018)</td>\n",
       "      <td>Action|Animation</td>\n",
       "    </tr>\n",
       "    <tr>\n",
       "      <th>9741</th>\n",
       "      <td>193609</td>\n",
       "      <td>Andrew Dice Clay: Dice Rules (1991)</td>\n",
       "      <td>Comedy</td>\n",
       "    </tr>\n",
       "  </tbody>\n",
       "</table>\n",
       "<p>9742 rows × 3 columns</p>\n",
       "</div>"
      ],
      "text/plain": [
       "      movieId                                      title  \\\n",
       "0           1                           Toy Story (1995)   \n",
       "1           2                             Jumanji (1995)   \n",
       "2           3                    Grumpier Old Men (1995)   \n",
       "3           4                   Waiting to Exhale (1995)   \n",
       "4           5         Father of the Bride Part II (1995)   \n",
       "...       ...                                        ...   \n",
       "9737   193581  Black Butler: Book of the Atlantic (2017)   \n",
       "9738   193583               No Game No Life: Zero (2017)   \n",
       "9739   193585                               Flint (2017)   \n",
       "9740   193587        Bungo Stray Dogs: Dead Apple (2018)   \n",
       "9741   193609        Andrew Dice Clay: Dice Rules (1991)   \n",
       "\n",
       "                                           genres  \n",
       "0     Adventure|Animation|Children|Comedy|Fantasy  \n",
       "1                      Adventure|Children|Fantasy  \n",
       "2                                  Comedy|Romance  \n",
       "3                            Comedy|Drama|Romance  \n",
       "4                                          Comedy  \n",
       "...                                           ...  \n",
       "9737              Action|Animation|Comedy|Fantasy  \n",
       "9738                     Animation|Comedy|Fantasy  \n",
       "9739                                        Drama  \n",
       "9740                             Action|Animation  \n",
       "9741                                       Comedy  \n",
       "\n",
       "[9742 rows x 3 columns]"
      ]
     },
     "execution_count": 34,
     "metadata": {},
     "output_type": "execute_result"
    }
   ],
   "source": [
    "import pandas as pd\n",
    "\n",
    "data_movies = pd.read_csv('data\\movies.csv')\n",
    "data_movies"
   ]
  },
  {
   "cell_type": "markdown",
   "metadata": {},
   "source": [
    "Задание 5.2"
   ]
  },
  {
   "cell_type": "code",
   "execution_count": null,
   "metadata": {},
   "outputs": [],
   "source": [
    "# Сколько уникальных фильмов представлено в таблице movies?\n",
    "data_movies"
   ]
  },
  {
   "cell_type": "markdown",
   "metadata": {},
   "source": [
    "Задание 5.3"
   ]
  },
  {
   "cell_type": "code",
   "execution_count": 2,
   "metadata": {},
   "outputs": [],
   "source": [
    "# Сколько уникальных пользователей в таблице ratings1?\n",
    "import pandas as pd\n",
    "ratings1 = pd.read_csv('data/ratings1.csv')\n",
    "ratings2 = pd.read_csv('data/ratings2.csv')\n",
    "dates = pd.read_csv('data/dates.csv')\n",
    "movies = pd.read_csv('data/movies.csv')\n"
   ]
  },
  {
   "cell_type": "markdown",
   "metadata": {},
   "source": [
    "Задание 5.4"
   ]
  },
  {
   "cell_type": "code",
   "execution_count": 3,
   "metadata": {},
   "outputs": [
    {
     "data": {
      "text/html": [
       "<div>\n",
       "<style scoped>\n",
       "    .dataframe tbody tr th:only-of-type {\n",
       "        vertical-align: middle;\n",
       "    }\n",
       "\n",
       "    .dataframe tbody tr th {\n",
       "        vertical-align: top;\n",
       "    }\n",
       "\n",
       "    .dataframe thead th {\n",
       "        text-align: right;\n",
       "    }\n",
       "</style>\n",
       "<table border=\"1\" class=\"dataframe\">\n",
       "  <thead>\n",
       "    <tr style=\"text-align: right;\">\n",
       "      <th></th>\n",
       "      <th>date</th>\n",
       "    </tr>\n",
       "  </thead>\n",
       "  <tbody>\n",
       "    <tr>\n",
       "      <th>0</th>\n",
       "      <td>2000</td>\n",
       "    </tr>\n",
       "  </tbody>\n",
       "</table>\n",
       "</div>"
      ],
      "text/plain": [
       "   date\n",
       "0  2000"
      ]
     },
     "execution_count": 3,
     "metadata": {},
     "output_type": "execute_result"
    }
   ],
   "source": [
    "# В каком году было выставлено больше всего оценок?\n",
    "data_dates = pd.read_csv('data/dates.csv')\n",
    "# приводим к стандарту datetime\n",
    "data_dates['date'] = pd.to_datetime(data_dates['date'], errors='coerce')\n",
    "# приводим дату к году\n",
    "data_dates['date'] = data_dates['date'].dt.year\n",
    "# находим топ года\n",
    "data_dates.mode()\n"
   ]
  },
  {
   "cell_type": "markdown",
   "metadata": {},
   "source": [
    "6. Объединение DataFrame: concat"
   ]
  },
  {
   "cell_type": "code",
   "execution_count": 4,
   "metadata": {},
   "outputs": [
    {
     "data": {
      "text/html": [
       "<div>\n",
       "<style scoped>\n",
       "    .dataframe tbody tr th:only-of-type {\n",
       "        vertical-align: middle;\n",
       "    }\n",
       "\n",
       "    .dataframe tbody tr th {\n",
       "        vertical-align: top;\n",
       "    }\n",
       "\n",
       "    .dataframe thead th {\n",
       "        text-align: right;\n",
       "    }\n",
       "</style>\n",
       "<table border=\"1\" class=\"dataframe\">\n",
       "  <thead>\n",
       "    <tr style=\"text-align: right;\">\n",
       "      <th></th>\n",
       "      <th>userId</th>\n",
       "      <th>movieId</th>\n",
       "      <th>rating</th>\n",
       "    </tr>\n",
       "  </thead>\n",
       "  <tbody>\n",
       "    <tr>\n",
       "      <th>0</th>\n",
       "      <td>1</td>\n",
       "      <td>1</td>\n",
       "      <td>4.0</td>\n",
       "    </tr>\n",
       "    <tr>\n",
       "      <th>1</th>\n",
       "      <td>1</td>\n",
       "      <td>3</td>\n",
       "      <td>4.0</td>\n",
       "    </tr>\n",
       "    <tr>\n",
       "      <th>2</th>\n",
       "      <td>1</td>\n",
       "      <td>6</td>\n",
       "      <td>4.0</td>\n",
       "    </tr>\n",
       "    <tr>\n",
       "      <th>3</th>\n",
       "      <td>1</td>\n",
       "      <td>47</td>\n",
       "      <td>5.0</td>\n",
       "    </tr>\n",
       "    <tr>\n",
       "      <th>4</th>\n",
       "      <td>1</td>\n",
       "      <td>50</td>\n",
       "      <td>5.0</td>\n",
       "    </tr>\n",
       "    <tr>\n",
       "      <th>...</th>\n",
       "      <td>...</td>\n",
       "      <td>...</td>\n",
       "      <td>...</td>\n",
       "    </tr>\n",
       "    <tr>\n",
       "      <th>100832</th>\n",
       "      <td>610</td>\n",
       "      <td>166534</td>\n",
       "      <td>4.0</td>\n",
       "    </tr>\n",
       "    <tr>\n",
       "      <th>100833</th>\n",
       "      <td>610</td>\n",
       "      <td>168248</td>\n",
       "      <td>5.0</td>\n",
       "    </tr>\n",
       "    <tr>\n",
       "      <th>100834</th>\n",
       "      <td>610</td>\n",
       "      <td>168250</td>\n",
       "      <td>5.0</td>\n",
       "    </tr>\n",
       "    <tr>\n",
       "      <th>100835</th>\n",
       "      <td>610</td>\n",
       "      <td>168252</td>\n",
       "      <td>5.0</td>\n",
       "    </tr>\n",
       "    <tr>\n",
       "      <th>100836</th>\n",
       "      <td>610</td>\n",
       "      <td>170875</td>\n",
       "      <td>3.0</td>\n",
       "    </tr>\n",
       "  </tbody>\n",
       "</table>\n",
       "<p>100837 rows × 3 columns</p>\n",
       "</div>"
      ],
      "text/plain": [
       "        userId  movieId  rating\n",
       "0            1        1     4.0\n",
       "1            1        3     4.0\n",
       "2            1        6     4.0\n",
       "3            1       47     5.0\n",
       "4            1       50     5.0\n",
       "...        ...      ...     ...\n",
       "100832     610   166534     4.0\n",
       "100833     610   168248     5.0\n",
       "100834     610   168250     5.0\n",
       "100835     610   168252     5.0\n",
       "100836     610   170875     3.0\n",
       "\n",
       "[100837 rows x 3 columns]"
      ]
     },
     "metadata": {},
     "output_type": "display_data"
    }
   ],
   "source": [
    "# ignore_index=True позволяет переделать индексацию а не оставлять старую\n",
    "ratings = pd.concat([ratings1, ratings2],\n",
    "    ignore_index=True)\n",
    "display(ratings)"
   ]
  },
  {
   "cell_type": "code",
   "execution_count": 5,
   "metadata": {},
   "outputs": [
    {
     "name": "stdout",
     "output_type": "stream",
     "text": [
      "Число строк в таблице ratings:  100836\n"
     ]
    }
   ],
   "source": [
    "# в таблицах есть дубль, его удаляем и индексируем заново, метод .drop_duplicates\n",
    "ratings = ratings.drop_duplicates(ignore_index=True)\n",
    "print('Число строк в таблице ratings: ', ratings.shape[0])"
   ]
  },
  {
   "cell_type": "code",
   "execution_count": 6,
   "metadata": {},
   "outputs": [
    {
     "data": {
      "text/html": [
       "<div>\n",
       "<style scoped>\n",
       "    .dataframe tbody tr th:only-of-type {\n",
       "        vertical-align: middle;\n",
       "    }\n",
       "\n",
       "    .dataframe tbody tr th {\n",
       "        vertical-align: top;\n",
       "    }\n",
       "\n",
       "    .dataframe thead th {\n",
       "        text-align: right;\n",
       "    }\n",
       "</style>\n",
       "<table border=\"1\" class=\"dataframe\">\n",
       "  <thead>\n",
       "    <tr style=\"text-align: right;\">\n",
       "      <th></th>\n",
       "      <th>userId</th>\n",
       "      <th>movieId</th>\n",
       "      <th>rating</th>\n",
       "      <th>date</th>\n",
       "    </tr>\n",
       "  </thead>\n",
       "  <tbody>\n",
       "    <tr>\n",
       "      <th>100829</th>\n",
       "      <td>610</td>\n",
       "      <td>164179</td>\n",
       "      <td>5.0</td>\n",
       "      <td>2017-05-03 21:07:11</td>\n",
       "    </tr>\n",
       "    <tr>\n",
       "      <th>100830</th>\n",
       "      <td>610</td>\n",
       "      <td>166528</td>\n",
       "      <td>4.0</td>\n",
       "      <td>2017-05-04 06:29:25</td>\n",
       "    </tr>\n",
       "    <tr>\n",
       "      <th>100831</th>\n",
       "      <td>610</td>\n",
       "      <td>166534</td>\n",
       "      <td>4.0</td>\n",
       "      <td>2017-05-03 21:53:22</td>\n",
       "    </tr>\n",
       "    <tr>\n",
       "      <th>100832</th>\n",
       "      <td>610</td>\n",
       "      <td>168248</td>\n",
       "      <td>5.0</td>\n",
       "      <td>2017-05-03 22:21:31</td>\n",
       "    </tr>\n",
       "    <tr>\n",
       "      <th>100833</th>\n",
       "      <td>610</td>\n",
       "      <td>168250</td>\n",
       "      <td>5.0</td>\n",
       "      <td>2017-05-08 19:50:47</td>\n",
       "    </tr>\n",
       "    <tr>\n",
       "      <th>100834</th>\n",
       "      <td>610</td>\n",
       "      <td>168252</td>\n",
       "      <td>5.0</td>\n",
       "      <td>2017-05-03 21:19:12</td>\n",
       "    </tr>\n",
       "    <tr>\n",
       "      <th>100835</th>\n",
       "      <td>610</td>\n",
       "      <td>170875</td>\n",
       "      <td>3.0</td>\n",
       "      <td>2017-05-03 21:20:15</td>\n",
       "    </tr>\n",
       "  </tbody>\n",
       "</table>\n",
       "</div>"
      ],
      "text/plain": [
       "        userId  movieId  rating                 date\n",
       "100829     610   164179     5.0  2017-05-03 21:07:11\n",
       "100830     610   166528     4.0  2017-05-04 06:29:25\n",
       "100831     610   166534     4.0  2017-05-03 21:53:22\n",
       "100832     610   168248     5.0  2017-05-03 22:21:31\n",
       "100833     610   168250     5.0  2017-05-08 19:50:47\n",
       "100834     610   168252     5.0  2017-05-03 21:19:12\n",
       "100835     610   170875     3.0  2017-05-03 21:20:15"
      ]
     },
     "metadata": {},
     "output_type": "display_data"
    }
   ],
   "source": [
    "# Наконец, мы можем добавить к нашей таблице с оценками даты их выставления.\n",
    "# Для этого конкатенируем таблицы ratings и dates по столбцам:\n",
    "ratings_dates = pd.concat([ratings, dates], axis=1)\n",
    "display(ratings_dates.tail(7))"
   ]
  },
  {
   "cell_type": "markdown",
   "metadata": {},
   "source": [
    "Задание 6.2"
   ]
  },
  {
   "cell_type": "code",
   "execution_count": 17,
   "metadata": {},
   "outputs": [
    {
     "data": {
      "text/html": [
       "<div>\n",
       "<style scoped>\n",
       "    .dataframe tbody tr th:only-of-type {\n",
       "        vertical-align: middle;\n",
       "    }\n",
       "\n",
       "    .dataframe tbody tr th {\n",
       "        vertical-align: top;\n",
       "    }\n",
       "\n",
       "    .dataframe thead th {\n",
       "        text-align: right;\n",
       "    }\n",
       "</style>\n",
       "<table border=\"1\" class=\"dataframe\">\n",
       "  <thead>\n",
       "    <tr style=\"text-align: right;\">\n",
       "      <th></th>\n",
       "      <th>Name</th>\n",
       "      <th>Surname</th>\n",
       "      <th>Role</th>\n",
       "    </tr>\n",
       "  </thead>\n",
       "  <tbody>\n",
       "    <tr>\n",
       "      <th>0</th>\n",
       "      <td>Pankaj</td>\n",
       "      <td>Sobolev</td>\n",
       "      <td>Admin</td>\n",
       "    </tr>\n",
       "    <tr>\n",
       "      <th>1</th>\n",
       "      <td>Lisa</td>\n",
       "      <td>Krasnova</td>\n",
       "      <td>Editor</td>\n",
       "    </tr>\n",
       "  </tbody>\n",
       "</table>\n",
       "</div>"
      ],
      "text/plain": [
       "     Name   Surname    Role\n",
       "0  Pankaj   Sobolev   Admin\n",
       "1    Lisa  Krasnova  Editor"
      ]
     },
     "execution_count": 17,
     "metadata": {},
     "output_type": "execute_result"
    }
   ],
   "source": [
    "# Какой из приведённых ниже способов будет верным при объединении этих таблиц?\n",
    "df1 = pd.DataFrame({\"Name\": [\"Pankaj\", \"Lisa\"], \"Surname\": [\"Sobolev\", \"Krasnova\"]})\n",
    "df2 = pd.DataFrame({\"Role\": [\"Admin\", \"Editor\"]})\n",
    "\n",
    "df = pd.concat([df1, df2], axis=1)\n",
    "df"
   ]
  },
  {
   "cell_type": "code",
   "execution_count": 23,
   "metadata": {},
   "outputs": [
    {
     "name": "stdout",
     "output_type": "stream",
     "text": [
      "['dates.csv', 'melb_data_fe.csv', 'movies.csv', 'ratings1.csv', 'ratings2.csv']\n"
     ]
    }
   ],
   "source": [
    "# Список названий всех файлов, находящихся в директории, \n",
    "# вы можете получить с помощью функции\n",
    "print(os.listdir('data/'))"
   ]
  },
  {
   "cell_type": "markdown",
   "metadata": {},
   "source": [
    "ЗАДАНИЕ 6.3"
   ]
  },
  {
   "cell_type": "code",
   "execution_count": null,
   "metadata": {},
   "outputs": [],
   "source": [
    "import pandas as pd\n",
    "import os\n",
    "print(os.listdir('./Root/users/'))\n",
    "def concat_users_files(path):\n",
    "    \"\"\"\n",
    "    Вам необходимо написать функцию concat_user_files(path), параметром которой \n",
    "    является path - путь до директории.     Функция должна объединить информацию \n",
    "    из предоставленных вам файлов в один DataFrame и вернуть его. Не забудьте обновить\n",
    "    индексы результирующей таблицы после объединения. Учтите тот момент, что в результате\n",
    "    объединения могут возникнуть дубликаты, от которых необходимо будет избавиться. \n",
    "    \"\"\"\n",
    "def concat_users_files(path):\n",
    "    data = pd.DataFrame()\n",
    "    file_names = os.listdir(path)\n",
    "    file_names.sort()\n",
    "    for file in file_names:\n",
    "        tmp_data = pd.read_csv(path + '/' + file)\n",
    "        data = pd.concat([data, tmp_data], axis=0, ignore_index=True)\n",
    "    data = data.drop_duplicates()\n",
    "    return data"
   ]
  },
  {
   "cell_type": "code",
   "execution_count": 44,
   "metadata": {},
   "outputs": [
    {
     "name": "stdout",
     "output_type": "stream",
     "text": [
      "  user_id                         image_url\n",
      "0   id001  http://example.com/img/id001.png\n",
      "1   id002  http://example.com/img/id002.jpg\n",
      "2   id003  http://example.com/img/id003.bmp\n",
      "3   id004  http://example.com/img/id004.jpg\n",
      "4   id005  http://example.com/img/id005.png\n",
      "5   id006  http://example.com/img/id006.png\n",
      "6   id007  http://example.com/img/id007.png\n",
      "7   id008  http://example.com/img/id008.png\n"
     ]
    }
   ],
   "source": [
    "import pandas as pd\n",
    "\n",
    "def concat_users_files(path):  \n",
    "#path = 'data/users/'\n",
    "    list_user = os.listdir(path)\n",
    "    list_user.sort()\n",
    "    for i in range(len(list_user)):\n",
    "        list_user[i] = pd.read_csv(f'{path}{list_user[i]}')\n",
    "    result = pd.concat(list_user, axis=0, ignore_index=True)\n",
    "    result = result.drop_duplicates()\n",
    "    return result\n",
    "print(concat_users_files('data/users/'))\n",
    "\n",
    "# list_user[i] = pd.read_csv(f'{path}{list_user[i]}')\n",
    "#                                                 ^\n",
    "# SyntaxError: invalid syntax\n",
    "\n"
   ]
  },
  {
   "cell_type": "markdown",
   "metadata": {},
   "source": [
    "7. Объединение DataFrame: join, merge"
   ]
  },
  {
   "cell_type": "code",
   "execution_count": 7,
   "metadata": {},
   "outputs": [
    {
     "data": {
      "text/html": [
       "<div>\n",
       "<style scoped>\n",
       "    .dataframe tbody tr th:only-of-type {\n",
       "        vertical-align: middle;\n",
       "    }\n",
       "\n",
       "    .dataframe tbody tr th {\n",
       "        vertical-align: top;\n",
       "    }\n",
       "\n",
       "    .dataframe thead th {\n",
       "        text-align: right;\n",
       "    }\n",
       "</style>\n",
       "<table border=\"1\" class=\"dataframe\">\n",
       "  <thead>\n",
       "    <tr style=\"text-align: right;\">\n",
       "      <th></th>\n",
       "      <th>userId</th>\n",
       "      <th>movieId</th>\n",
       "      <th>rating</th>\n",
       "      <th>date</th>\n",
       "      <th>movieId_right</th>\n",
       "      <th>title</th>\n",
       "      <th>genres</th>\n",
       "    </tr>\n",
       "  </thead>\n",
       "  <tbody>\n",
       "    <tr>\n",
       "      <th>0</th>\n",
       "      <td>1</td>\n",
       "      <td>1</td>\n",
       "      <td>4.0</td>\n",
       "      <td>2000-07-30 18:45:03</td>\n",
       "      <td>1.0</td>\n",
       "      <td>Toy Story (1995)</td>\n",
       "      <td>Adventure|Animation|Children|Comedy|Fantasy</td>\n",
       "    </tr>\n",
       "    <tr>\n",
       "      <th>1</th>\n",
       "      <td>1</td>\n",
       "      <td>3</td>\n",
       "      <td>4.0</td>\n",
       "      <td>2000-07-30 18:20:47</td>\n",
       "      <td>2.0</td>\n",
       "      <td>Jumanji (1995)</td>\n",
       "      <td>Adventure|Children|Fantasy</td>\n",
       "    </tr>\n",
       "    <tr>\n",
       "      <th>2</th>\n",
       "      <td>1</td>\n",
       "      <td>6</td>\n",
       "      <td>4.0</td>\n",
       "      <td>2000-07-30 18:37:04</td>\n",
       "      <td>3.0</td>\n",
       "      <td>Grumpier Old Men (1995)</td>\n",
       "      <td>Comedy|Romance</td>\n",
       "    </tr>\n",
       "    <tr>\n",
       "      <th>3</th>\n",
       "      <td>1</td>\n",
       "      <td>47</td>\n",
       "      <td>5.0</td>\n",
       "      <td>2000-07-30 19:03:35</td>\n",
       "      <td>4.0</td>\n",
       "      <td>Waiting to Exhale (1995)</td>\n",
       "      <td>Comedy|Drama|Romance</td>\n",
       "    </tr>\n",
       "    <tr>\n",
       "      <th>4</th>\n",
       "      <td>1</td>\n",
       "      <td>50</td>\n",
       "      <td>5.0</td>\n",
       "      <td>2000-07-30 18:48:51</td>\n",
       "      <td>5.0</td>\n",
       "      <td>Father of the Bride Part II (1995)</td>\n",
       "      <td>Comedy</td>\n",
       "    </tr>\n",
       "    <tr>\n",
       "      <th>...</th>\n",
       "      <td>...</td>\n",
       "      <td>...</td>\n",
       "      <td>...</td>\n",
       "      <td>...</td>\n",
       "      <td>...</td>\n",
       "      <td>...</td>\n",
       "      <td>...</td>\n",
       "    </tr>\n",
       "    <tr>\n",
       "      <th>100831</th>\n",
       "      <td>610</td>\n",
       "      <td>166534</td>\n",
       "      <td>4.0</td>\n",
       "      <td>2017-05-03 21:53:22</td>\n",
       "      <td>NaN</td>\n",
       "      <td>NaN</td>\n",
       "      <td>NaN</td>\n",
       "    </tr>\n",
       "    <tr>\n",
       "      <th>100832</th>\n",
       "      <td>610</td>\n",
       "      <td>168248</td>\n",
       "      <td>5.0</td>\n",
       "      <td>2017-05-03 22:21:31</td>\n",
       "      <td>NaN</td>\n",
       "      <td>NaN</td>\n",
       "      <td>NaN</td>\n",
       "    </tr>\n",
       "    <tr>\n",
       "      <th>100833</th>\n",
       "      <td>610</td>\n",
       "      <td>168250</td>\n",
       "      <td>5.0</td>\n",
       "      <td>2017-05-08 19:50:47</td>\n",
       "      <td>NaN</td>\n",
       "      <td>NaN</td>\n",
       "      <td>NaN</td>\n",
       "    </tr>\n",
       "    <tr>\n",
       "      <th>100834</th>\n",
       "      <td>610</td>\n",
       "      <td>168252</td>\n",
       "      <td>5.0</td>\n",
       "      <td>2017-05-03 21:19:12</td>\n",
       "      <td>NaN</td>\n",
       "      <td>NaN</td>\n",
       "      <td>NaN</td>\n",
       "    </tr>\n",
       "    <tr>\n",
       "      <th>100835</th>\n",
       "      <td>610</td>\n",
       "      <td>170875</td>\n",
       "      <td>3.0</td>\n",
       "      <td>2017-05-03 21:20:15</td>\n",
       "      <td>NaN</td>\n",
       "      <td>NaN</td>\n",
       "      <td>NaN</td>\n",
       "    </tr>\n",
       "  </tbody>\n",
       "</table>\n",
       "<p>100836 rows × 7 columns</p>\n",
       "</div>"
      ],
      "text/plain": [
       "        userId  movieId  rating                 date  movieId_right  \\\n",
       "0            1        1     4.0  2000-07-30 18:45:03            1.0   \n",
       "1            1        3     4.0  2000-07-30 18:20:47            2.0   \n",
       "2            1        6     4.0  2000-07-30 18:37:04            3.0   \n",
       "3            1       47     5.0  2000-07-30 19:03:35            4.0   \n",
       "4            1       50     5.0  2000-07-30 18:48:51            5.0   \n",
       "...        ...      ...     ...                  ...            ...   \n",
       "100831     610   166534     4.0  2017-05-03 21:53:22            NaN   \n",
       "100832     610   168248     5.0  2017-05-03 22:21:31            NaN   \n",
       "100833     610   168250     5.0  2017-05-08 19:50:47            NaN   \n",
       "100834     610   168252     5.0  2017-05-03 21:19:12            NaN   \n",
       "100835     610   170875     3.0  2017-05-03 21:20:15            NaN   \n",
       "\n",
       "                                     title  \\\n",
       "0                         Toy Story (1995)   \n",
       "1                           Jumanji (1995)   \n",
       "2                  Grumpier Old Men (1995)   \n",
       "3                 Waiting to Exhale (1995)   \n",
       "4       Father of the Bride Part II (1995)   \n",
       "...                                    ...   \n",
       "100831                                 NaN   \n",
       "100832                                 NaN   \n",
       "100833                                 NaN   \n",
       "100834                                 NaN   \n",
       "100835                                 NaN   \n",
       "\n",
       "                                             genres  \n",
       "0       Adventure|Animation|Children|Comedy|Fantasy  \n",
       "1                        Adventure|Children|Fantasy  \n",
       "2                                    Comedy|Romance  \n",
       "3                              Comedy|Drama|Romance  \n",
       "4                                            Comedy  \n",
       "...                                             ...  \n",
       "100831                                          NaN  \n",
       "100832                                          NaN  \n",
       "100833                                          NaN  \n",
       "100834                                          NaN  \n",
       "100835                                          NaN  \n",
       "\n",
       "[100836 rows x 7 columns]"
      ]
     },
     "metadata": {},
     "output_type": "display_data"
    }
   ],
   "source": [
    "joined_false = ratings_dates.join(\n",
    "    movies,\n",
    "    rsuffix='_right',\n",
    "    how='left'\n",
    ")\n",
    "display(joined_false)"
   ]
  },
  {
   "cell_type": "code",
   "execution_count": null,
   "metadata": {},
   "outputs": [],
   "source": [
    "joined = ratings_dates.join(\n",
    "    movies.set_index('movieId'),\n",
    "    on='movieId',\n",
    "    how='left'\n",
    ")\n",
    "display(joined)"
   ]
  },
  {
   "cell_type": "markdown",
   "metadata": {},
   "source": [
    "МЕТОД ОБЪЕДИНЕНИЯ MERGE"
   ]
  },
  {
   "cell_type": "code",
   "execution_count": 10,
   "metadata": {},
   "outputs": [
    {
     "data": {
      "text/html": [
       "<div>\n",
       "<style scoped>\n",
       "    .dataframe tbody tr th:only-of-type {\n",
       "        vertical-align: middle;\n",
       "    }\n",
       "\n",
       "    .dataframe tbody tr th {\n",
       "        vertical-align: top;\n",
       "    }\n",
       "\n",
       "    .dataframe thead th {\n",
       "        text-align: right;\n",
       "    }\n",
       "</style>\n",
       "<table border=\"1\" class=\"dataframe\">\n",
       "  <thead>\n",
       "    <tr style=\"text-align: right;\">\n",
       "      <th></th>\n",
       "      <th>userId</th>\n",
       "      <th>movieId</th>\n",
       "      <th>rating</th>\n",
       "      <th>date</th>\n",
       "      <th>title</th>\n",
       "      <th>genres</th>\n",
       "    </tr>\n",
       "  </thead>\n",
       "  <tbody>\n",
       "    <tr>\n",
       "      <th>0</th>\n",
       "      <td>1</td>\n",
       "      <td>1</td>\n",
       "      <td>4.0</td>\n",
       "      <td>2000-07-30 18:45:03</td>\n",
       "      <td>Toy Story (1995)</td>\n",
       "      <td>Adventure|Animation|Children|Comedy|Fantasy</td>\n",
       "    </tr>\n",
       "    <tr>\n",
       "      <th>1</th>\n",
       "      <td>1</td>\n",
       "      <td>3</td>\n",
       "      <td>4.0</td>\n",
       "      <td>2000-07-30 18:20:47</td>\n",
       "      <td>Grumpier Old Men (1995)</td>\n",
       "      <td>Comedy|Romance</td>\n",
       "    </tr>\n",
       "    <tr>\n",
       "      <th>2</th>\n",
       "      <td>1</td>\n",
       "      <td>6</td>\n",
       "      <td>4.0</td>\n",
       "      <td>2000-07-30 18:37:04</td>\n",
       "      <td>Heat (1995)</td>\n",
       "      <td>Action|Crime|Thriller</td>\n",
       "    </tr>\n",
       "    <tr>\n",
       "      <th>3</th>\n",
       "      <td>1</td>\n",
       "      <td>47</td>\n",
       "      <td>5.0</td>\n",
       "      <td>2000-07-30 19:03:35</td>\n",
       "      <td>Seven (a.k.a. Se7en) (1995)</td>\n",
       "      <td>Mystery|Thriller</td>\n",
       "    </tr>\n",
       "    <tr>\n",
       "      <th>4</th>\n",
       "      <td>1</td>\n",
       "      <td>50</td>\n",
       "      <td>5.0</td>\n",
       "      <td>2000-07-30 18:48:51</td>\n",
       "      <td>Usual Suspects, The (1995)</td>\n",
       "      <td>Crime|Mystery|Thriller</td>\n",
       "    </tr>\n",
       "  </tbody>\n",
       "</table>\n",
       "</div>"
      ],
      "text/plain": [
       "   userId  movieId  rating                 date                        title  \\\n",
       "0       1        1     4.0  2000-07-30 18:45:03             Toy Story (1995)   \n",
       "1       1        3     4.0  2000-07-30 18:20:47      Grumpier Old Men (1995)   \n",
       "2       1        6     4.0  2000-07-30 18:37:04                  Heat (1995)   \n",
       "3       1       47     5.0  2000-07-30 19:03:35  Seven (a.k.a. Se7en) (1995)   \n",
       "4       1       50     5.0  2000-07-30 18:48:51   Usual Suspects, The (1995)   \n",
       "\n",
       "                                        genres  \n",
       "0  Adventure|Animation|Children|Comedy|Fantasy  \n",
       "1                               Comedy|Romance  \n",
       "2                        Action|Crime|Thriller  \n",
       "3                             Mystery|Thriller  \n",
       "4                       Crime|Mystery|Thriller  "
      ]
     },
     "metadata": {},
     "output_type": "display_data"
    }
   ],
   "source": [
    "merged = ratings_dates.merge(\n",
    "    movies,\n",
    "    on='movieId',\n",
    "    how='left'\n",
    ")\n",
    "display(merged.head())"
   ]
  },
  {
   "cell_type": "code",
   "execution_count": 11,
   "metadata": {},
   "outputs": [
    {
     "name": "stdout",
     "output_type": "stream",
     "text": [
      "Число строк в таблице merge_ratings:  100836\n"
     ]
    },
    {
     "data": {
      "text/html": [
       "<div>\n",
       "<style scoped>\n",
       "    .dataframe tbody tr th:only-of-type {\n",
       "        vertical-align: middle;\n",
       "    }\n",
       "\n",
       "    .dataframe tbody tr th {\n",
       "        vertical-align: top;\n",
       "    }\n",
       "\n",
       "    .dataframe thead th {\n",
       "        text-align: right;\n",
       "    }\n",
       "</style>\n",
       "<table border=\"1\" class=\"dataframe\">\n",
       "  <thead>\n",
       "    <tr style=\"text-align: right;\">\n",
       "      <th></th>\n",
       "      <th>userId</th>\n",
       "      <th>movieId</th>\n",
       "      <th>rating</th>\n",
       "    </tr>\n",
       "  </thead>\n",
       "  <tbody>\n",
       "    <tr>\n",
       "      <th>0</th>\n",
       "      <td>1</td>\n",
       "      <td>1</td>\n",
       "      <td>4.0</td>\n",
       "    </tr>\n",
       "    <tr>\n",
       "      <th>1</th>\n",
       "      <td>1</td>\n",
       "      <td>3</td>\n",
       "      <td>4.0</td>\n",
       "    </tr>\n",
       "    <tr>\n",
       "      <th>2</th>\n",
       "      <td>1</td>\n",
       "      <td>6</td>\n",
       "      <td>4.0</td>\n",
       "    </tr>\n",
       "    <tr>\n",
       "      <th>3</th>\n",
       "      <td>1</td>\n",
       "      <td>47</td>\n",
       "      <td>5.0</td>\n",
       "    </tr>\n",
       "    <tr>\n",
       "      <th>4</th>\n",
       "      <td>1</td>\n",
       "      <td>50</td>\n",
       "      <td>5.0</td>\n",
       "    </tr>\n",
       "    <tr>\n",
       "      <th>...</th>\n",
       "      <td>...</td>\n",
       "      <td>...</td>\n",
       "      <td>...</td>\n",
       "    </tr>\n",
       "    <tr>\n",
       "      <th>100831</th>\n",
       "      <td>610</td>\n",
       "      <td>166534</td>\n",
       "      <td>4.0</td>\n",
       "    </tr>\n",
       "    <tr>\n",
       "      <th>100832</th>\n",
       "      <td>610</td>\n",
       "      <td>168248</td>\n",
       "      <td>5.0</td>\n",
       "    </tr>\n",
       "    <tr>\n",
       "      <th>100833</th>\n",
       "      <td>610</td>\n",
       "      <td>168250</td>\n",
       "      <td>5.0</td>\n",
       "    </tr>\n",
       "    <tr>\n",
       "      <th>100834</th>\n",
       "      <td>610</td>\n",
       "      <td>168252</td>\n",
       "      <td>5.0</td>\n",
       "    </tr>\n",
       "    <tr>\n",
       "      <th>100835</th>\n",
       "      <td>610</td>\n",
       "      <td>170875</td>\n",
       "      <td>3.0</td>\n",
       "    </tr>\n",
       "  </tbody>\n",
       "</table>\n",
       "<p>100836 rows × 3 columns</p>\n",
       "</div>"
      ],
      "text/plain": [
       "        userId  movieId  rating\n",
       "0            1        1     4.0\n",
       "1            1        3     4.0\n",
       "2            1        6     4.0\n",
       "3            1       47     5.0\n",
       "4            1       50     5.0\n",
       "...        ...      ...     ...\n",
       "100831     610   166534     4.0\n",
       "100832     610   168248     5.0\n",
       "100833     610   168250     5.0\n",
       "100834     610   168252     5.0\n",
       "100835     610   170875     3.0\n",
       "\n",
       "[100836 rows x 3 columns]"
      ]
     },
     "metadata": {},
     "output_type": "display_data"
    }
   ],
   "source": [
    "merge_ratings = ratings1.merge(ratings2, how='outer')\n",
    "print('Число строк в таблице merge_ratings: ', merge_ratings.shape[0])\n",
    "display(merge_ratings)"
   ]
  },
  {
   "cell_type": "markdown",
   "metadata": {},
   "source": [
    "Задание 7.4"
   ]
  },
  {
   "cell_type": "code",
   "execution_count": 20,
   "metadata": {},
   "outputs": [
    {
     "data": {
      "text/html": [
       "<div>\n",
       "<style scoped>\n",
       "    .dataframe tbody tr th:only-of-type {\n",
       "        vertical-align: middle;\n",
       "    }\n",
       "\n",
       "    .dataframe tbody tr th {\n",
       "        vertical-align: top;\n",
       "    }\n",
       "\n",
       "    .dataframe thead th {\n",
       "        text-align: right;\n",
       "    }\n",
       "</style>\n",
       "<table border=\"1\" class=\"dataframe\">\n",
       "  <thead>\n",
       "    <tr style=\"text-align: right;\">\n",
       "      <th></th>\n",
       "      <th>A</th>\n",
       "      <th>B</th>\n",
       "      <th>C</th>\n",
       "      <th>V</th>\n",
       "      <th>U</th>\n",
       "    </tr>\n",
       "  </thead>\n",
       "  <tbody>\n",
       "    <tr>\n",
       "      <th>0</th>\n",
       "      <td>a</td>\n",
       "      <td>103.0</td>\n",
       "      <td>1</td>\n",
       "      <td>d</td>\n",
       "      <td>1393.7</td>\n",
       "    </tr>\n",
       "    <tr>\n",
       "      <th>1</th>\n",
       "      <td>NaN</td>\n",
       "      <td>NaN</td>\n",
       "      <td>3</td>\n",
       "      <td>b</td>\n",
       "      <td>9382.2</td>\n",
       "    </tr>\n",
       "    <tr>\n",
       "      <th>2</th>\n",
       "      <td>c</td>\n",
       "      <td>124.0</td>\n",
       "      <td>2</td>\n",
       "      <td>c</td>\n",
       "      <td>1904.5</td>\n",
       "    </tr>\n",
       "  </tbody>\n",
       "</table>\n",
       "</div>"
      ],
      "text/plain": [
       "     A      B  C  V       U\n",
       "0    a  103.0  1  d  1393.7\n",
       "1  NaN    NaN  3  b  9382.2\n",
       "2    c  124.0  2  c  1904.5"
      ]
     },
     "execution_count": 20,
     "metadata": {},
     "output_type": "execute_result"
    }
   ],
   "source": [
    "a = pd.DataFrame({'A': ['a', 'b', 'c'], 'B': [103, 214, 124], 'C': [1, 4, 2]})\n",
    "b = pd.DataFrame({'V': ['d', 'b', 'c'], 'U': [1393.7, 9382.2, 1904.5], 'C': [1, 3, 2]})\n",
    "c = a.merge(b, how='right', on='C')\n",
    "c"
   ]
  },
  {
   "cell_type": "markdown",
   "metadata": {},
   "source": [
    "ЗАДАНИЕ 7.5"
   ]
  },
  {
   "cell_type": "code",
   "execution_count": 38,
   "metadata": {},
   "outputs": [
    {
     "data": {
      "text/plain": [
       "19729490"
      ]
     },
     "execution_count": 38,
     "metadata": {},
     "output_type": "execute_result"
    }
   ],
   "source": [
    "items_df = pd.DataFrame({\n",
    "    'item_id': [417283, 849734, 132223, 573943, 19475, 3294095, 382043, 302948, 100132, 312394], \n",
    "    'vendor': ['Samsung', 'LG', 'Apple', 'Apple', 'LG', 'Apple', 'Samsung', 'Samsung', 'LG', 'ZTE'],\n",
    "    'stock_count': [54, 33, 122, 18, 102, 43, 77, 143, 60, 19]\n",
    "})\n",
    "purchase_df = pd.DataFrame({\n",
    "    'purchase_id': [101, 101, 101, 112, 121, 145, 145, 145, 145, 221],\n",
    "    'item_id': [417283, 849734, 132223, 573943, 19475, 3294095, 382043, 302948, 103845, 100132], \n",
    "    'price': [13900, 5330, 38200, 49990, 9890, 33000, 67500, 34500, 89900, 11400]\n",
    "})\n",
    "#print(items_df, '\\n', purchase_df )\n",
    "merged = items_df.merge(purchase_df, how='inner')\n",
    "income = sum(merged['stock_count'] * merged['price'])\n",
    "income"
   ]
  },
  {
   "cell_type": "markdown",
   "metadata": {},
   "source": [
    "8. Закрепление знаний"
   ]
  },
  {
   "cell_type": "code",
   "execution_count": 1,
   "metadata": {},
   "outputs": [
    {
     "ename": "NameError",
     "evalue": "name 'joined' is not defined",
     "output_type": "error",
     "traceback": [
      "\u001b[1;31m---------------------------------------------------------------------------\u001b[0m",
      "\u001b[1;31mNameError\u001b[0m                                 Traceback (most recent call last)",
      "Cell \u001b[1;32mIn [1], line 19\u001b[0m\n\u001b[0;32m     15\u001b[0m     \u001b[39melse\u001b[39;00m:\n\u001b[0;32m     16\u001b[0m         \u001b[39m#если год не указан, возвращаем None\u001b[39;00m\n\u001b[0;32m     17\u001b[0m         \u001b[39mreturn\u001b[39;00m \u001b[39mNone\u001b[39;00m\n\u001b[1;32m---> 19\u001b[0m joined[\u001b[39m'\u001b[39m\u001b[39myear_release\u001b[39m\u001b[39m'\u001b[39m] \u001b[39m=\u001b[39m joined[\u001b[39m'\u001b[39m\u001b[39mtitle\u001b[39m\u001b[39m'\u001b[39m]\u001b[39m.\u001b[39mapply(get_year_release)\n\u001b[0;32m     20\u001b[0m uu \u001b[39m=\u001b[39m joined[\u001b[39m'\u001b[39m\u001b[39mdate\u001b[39m\u001b[39m'\u001b[39m]\u001b[39m.\u001b[39mcount() \u001b[39m-\u001b[39m joined[\u001b[39m'\u001b[39m\u001b[39myear_release\u001b[39m\u001b[39m'\u001b[39m]\u001b[39m.\u001b[39mcount()\n\u001b[0;32m     21\u001b[0m uu\n",
      "\u001b[1;31mNameError\u001b[0m: name 'joined' is not defined"
     ]
    }
   ],
   "source": [
    "import re \n",
    "# Создайте в таблице новый признак year_release, который соответствует году выпуска фильма.\n",
    "# У скольких фильмов не указан год их выпуска?\n",
    "\n",
    "def get_year_release(arg):\n",
    "    #находим все слова по шаблону \"(DDDD)\"\n",
    "    candidates = re.findall(r'\\(\\d{4}\\)', arg) \n",
    "    # проверяем число вхождений\n",
    "    if len(candidates) > 0:\n",
    "        #если число вхождений больше 0,\n",
    "\t#очищаем строку от знаков \"(\" и \")\"\n",
    "        year = candidates[0].replace('(', '')\n",
    "        year = year.replace(')', '')\n",
    "        return int(year)\n",
    "    else:\n",
    "        #если год не указан, возвращаем None\n",
    "        return None\n",
    "    \n",
    "joined['year_release'] = joined['title'].apply(get_year_release)\n",
    "uu = joined['date'].count() - joined['year_release'].count()\n",
    "uu"
   ]
  },
  {
   "cell_type": "markdown",
   "metadata": {},
   "source": [
    "Задание 8.2"
   ]
  },
  {
   "cell_type": "code",
   "execution_count": null,
   "metadata": {},
   "outputs": [],
   "source": [
    "\n",
    "# Какой фильм, выпущенный в 1999 году, получил наименьшую среднюю оценку зрителей?\n",
    "mask = joined['year_release'] == 1999\n",
    "mask2 = joined[mask].groupby(by='title')['rating'].mean().sort_values(ascending=False)\n",
    "mask2"
   ]
  },
  {
   "cell_type": "markdown",
   "metadata": {},
   "source": [
    "Задание 8.3"
   ]
  },
  {
   "cell_type": "code",
   "execution_count": 107,
   "metadata": {},
   "outputs": [
    {
     "data": {
      "text/plain": [
       "genres\n",
       "Animation|Drama|Fantasy|Mystery      5.000000\n",
       "Animation|Children|Mystery           5.000000\n",
       "Adventure|Children|Comedy|Mystery    5.000000\n",
       "Comedy|Musical                       5.000000\n",
       "Sci-Fi                               4.750000\n",
       "                                       ...   \n",
       "Adventure|Comedy|Fantasy             1.833333\n",
       "Action|Adventure|Horror              1.500000\n",
       "Action|Drama|Fantasy                 1.500000\n",
       "Crime|Romance                        1.500000\n",
       "Action|Sci-Fi                        1.000000\n",
       "Name: rating, Length: 119, dtype: float64"
      ]
     },
     "execution_count": 107,
     "metadata": {},
     "output_type": "execute_result"
    }
   ],
   "source": [
    "# Какое сочетание жанров фильмов (genres), выпущенных в 2010 году, получило наименьшую среднюю оценку (rating)?\n",
    "mask = joined['year_release'] == 2010\n",
    "mask2 = joined[mask].groupby(by='genres')['rating'].mean().sort_values(ascending=False)\n",
    "mask2"
   ]
  },
  {
   "cell_type": "markdown",
   "metadata": {},
   "source": [
    "Задание 8.4"
   ]
  },
  {
   "cell_type": "code",
   "execution_count": null,
   "metadata": {},
   "outputs": [],
   "source": [
    "# Какой пользователь (userId) посмотрел наибольшее количество различных (уникальных) комбинаций жанров\n",
    "# (genres) фильмов? В качестве ответа запишите идентификатор этого пользователя.\n",
    "#mask2 = joined.groupby(by='userId')['genres'].u.sort_values(ascending=False)\n",
    "joined.groupby('userId')['genres'].agg(\n",
    "    \t\t['nunique', set]\n",
    ").sort_values(by='nunique', ascending=False)"
   ]
  },
  {
   "cell_type": "markdown",
   "metadata": {},
   "source": [
    "Задание 8.5"
   ]
  },
  {
   "cell_type": "code",
   "execution_count": null,
   "metadata": {},
   "outputs": [],
   "source": [
    "joined"
   ]
  },
  {
   "cell_type": "code",
   "execution_count": null,
   "metadata": {},
   "outputs": [],
   "source": [
    "# Найдите пользователя, который выставил наименьшее количество оценок, \n",
    "# но его средняя оценка фильмам наибольшая.\n",
    "joined.groupby('userId')['rating'].agg(\n",
    "    ['count', 'mean']\n",
    ").sort_values(by='count', ascending=False)"
   ]
  },
  {
   "cell_type": "markdown",
   "metadata": {},
   "source": [
    "Задание 8.6"
   ]
  },
  {
   "cell_type": "code",
   "execution_count": 126,
   "metadata": {},
   "outputs": [
    {
     "data": {
      "text/plain": [
       "genres\n",
       "Action|Comedy|Sci-Fi       3.875000\n",
       "Action|Adventure|Sci-Fi    3.928571\n",
       "Name: mean, dtype: float64"
      ]
     },
     "execution_count": 126,
     "metadata": {},
     "output_type": "execute_result"
    }
   ],
   "source": [
    "# Найдите сочетание жанров (genres) за 2018 году, которое имеет наибольший средний рейтинг \n",
    "# (среднее по столбцу rating), и при этом число выставленных ему оценок \n",
    "# (количество значений в столбце rating) больше 10.\n",
    "mask = joined['year_release'] == 2018\n",
    "res_1 = joined[mask].groupby(by='genres')['rating'].agg(\n",
    "    ['count', 'mean']\n",
    ").sort_values(by='count')\n",
    "mask3 = res_1['count'] > 10\n",
    "res_1[mask3]['mean'].sort_values()\n"
   ]
  },
  {
   "cell_type": "markdown",
   "metadata": {},
   "source": [
    "Задание 8.7"
   ]
  },
  {
   "cell_type": "code",
   "execution_count": 154,
   "metadata": {},
   "outputs": [
    {
     "data": {
      "text/plain": [
       "genres\n",
       "Action|Adventure    2.852713\n",
       "Name: rating, dtype: float64"
      ]
     },
     "execution_count": 154,
     "metadata": {},
     "output_type": "execute_result"
    }
   ],
   "source": [
    "# Добавьте в таблицу новый признак year_rating — год выставления оценки. \n",
    "# Создайте сводную таблицу, которая иллюстрирует зависимость среднего рейтинга фильма \n",
    "# от года выставления оценки и жанра. Выберите верные варианты ответа, исходя из построенной таблицы:\n",
    "joined['date'] = pd.to_datetime(joined['date'], dayfirst=True)\n",
    "joined['year_rating'] = joined['date'].dt.year\n",
    "\n",
    "# За весь период (с 1996 по 2018 год) сочетание жанров Action|Adventure ни разу не \n",
    "# получало среднюю оценку ниже 3.\n",
    "mask = joined['year_release'] > 1996\n",
    "mask2 = joined['year_release'] <= 2018 \n",
    "mask3 = joined['genres'] == 'Action|Adventure'\n",
    "yy = joined[mask & mask2 & mask3].groupby(by='genres')['rating'].mean().sort_values(ascending=False)\n",
    "# Неверно Action|Adventure    2.852713\n",
    "\n",
    "# Наилучшую оценку жанр Action|Adventure|Animation|Children|Comedy|IMAX получил в 2010 году.\n",
    "mask = joined['year_release'] == 2010\n",
    "mask3 = joined['genres'] == 'Action|Adventure|Animation|Children|Comedy|IMAX'\n",
    "joined[mask & mask3].groupby(by='genres')['rating'].count()\n",
    "joined[mask3]['rating'].count()\n",
    "\n",
    "\n"
   ]
  },
  {
   "cell_type": "markdown",
   "metadata": {},
   "source": [
    "Задание 8.8"
   ]
  },
  {
   "cell_type": "code",
   "execution_count": null,
   "metadata": {},
   "outputs": [],
   "source": [
    "import pandas as pd\n",
    "\n",
    "orders = pd.read_csv('data/orders.csv', sep=';')\n",
    "products = pd.read_csv('data/products.csv', sep=';')\n",
    "orders.rename(columns={'ID товара': 'Product_ID'}, inplace=True)\n",
    "\n",
    "# Какой идентификатор (Order ID) имеет заказ, для которого не оказалось информации о товаре?\n",
    "merged = orders.merge(\n",
    "    products,\n",
    "    on='Product_ID',\n",
    "    how='left'\n",
    ")\n",
    "merged\n"
   ]
  },
  {
   "cell_type": "markdown",
   "metadata": {},
   "source": [
    "Задание 8.10"
   ]
  },
  {
   "cell_type": "code",
   "execution_count": 43,
   "metadata": {},
   "outputs": [
    {
     "data": {
      "text/plain": [
       "ID Покупателя\n",
       "7     17096.0\n",
       "5     14042.0\n",
       "9      7040.0\n",
       "8      3087.0\n",
       "1      2240.0\n",
       "10      995.0\n",
       "Name: Прибыль, dtype: float64"
      ]
     },
     "execution_count": 43,
     "metadata": {},
     "output_type": "execute_result"
    }
   ],
   "source": [
    "# Какой покупатель принёс наибольшую суммарную прибыль интернет-магазину за указанный период?\n",
    "# В ответ запишите идентификатор этого покупателя (ID Покупателя).\n",
    "# Прибыль состоит только из оплаченных заказов и рассчитывается как количество купленного товара,\n",
    "# умноженное на его цену.\n",
    "\n",
    "merged['Прибыль'] = merged['Price'] * merged['Количество']\n",
    "#merged['Прибыль_'] = merged['Price'] * merged['Количество']\n",
    "#merged[mask].groupby(by='ID Покупателя')[mask].sort_values(ascending=False)\n",
    "merged.groupby(['ID Покупателя'])['Прибыль'].sum().sort_values(ascending=False)\n",
    "\n",
    "#melb_df.groupby(['Rooms', 'Type'])['Price'].mean().unstack()\n",
    "#\"\"\"for i in range(len(tr['ID Покупателя'])):sum(tr[i]) \"\"\"\"\n"
   ]
  }
 ],
 "metadata": {
  "kernelspec": {
   "display_name": "Python 3.10.8 64-bit (microsoft store)",
   "language": "python",
   "name": "python3"
  },
  "language_info": {
   "codemirror_mode": {
    "name": "ipython",
    "version": 3
   },
   "file_extension": ".py",
   "mimetype": "text/x-python",
   "name": "python",
   "nbconvert_exporter": "python",
   "pygments_lexer": "ipython3",
   "version": "3.10.8"
  },
  "orig_nbformat": 4,
  "vscode": {
   "interpreter": {
    "hash": "808737b956214281f5c2e91a609c246c88a0e02a0bf2ac93ca5b44d52ae084d9"
   }
  }
 },
 "nbformat": 4,
 "nbformat_minor": 2
}
