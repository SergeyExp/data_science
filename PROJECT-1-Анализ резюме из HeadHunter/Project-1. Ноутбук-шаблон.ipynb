{
 "cells": [
  {
   "cell_type": "markdown",
   "id": "42289889-bd57-434e-9637-d3e354756316",
   "metadata": {},
   "source": [
    "<center> <img src = https://raw.githubusercontent.com/AndreyRysistov/DatasetsForPandas/main/hh%20label.jpg alt=\"drawing\" style=\"width:400px;\">"
   ]
  },
  {
   "cell_type": "markdown",
   "id": "829cb75b-f14e-4ba8-9195-7ba929a7d656",
   "metadata": {
    "tags": []
   },
   "source": [
    "# <center> Проект: Анализ резюме из HeadHunter\n",
    "   "
   ]
  },
  {
   "cell_type": "code",
   "execution_count": 2,
   "id": "dccfde33-2452-43fb-a8a5-5c6ebc02a71d",
   "metadata": {},
   "outputs": [],
   "source": [
    "import pandas as pd\n",
    "import numpy as np\n",
    "import matplotlib.pyplot as plt\n",
    "import seaborn as sns\n",
    "import plotly.express as px"
   ]
  },
  {
   "cell_type": "markdown",
   "id": "0dc6476b-7a00-44f1-ac93-6e3baed33a29",
   "metadata": {},
   "source": [
    "# Исследование структуры данных"
   ]
  },
  {
   "cell_type": "markdown",
   "id": "889782b6-8d1c-410e-8920-e57f27917c64",
   "metadata": {},
   "source": [
    "1. Прочитайте данные с помощью библиотеки Pandas. Совет: перед чтением обратите внимание на разделитель внутри файла. "
   ]
  },
  {
   "cell_type": "code",
   "execution_count": 3,
   "id": "bc39e68e-ed02-4ee2-9235-7258a2f867a8",
   "metadata": {},
   "outputs": [],
   "source": [
    "#ваш код здесь\n",
    "df_origin = pd.read_csv('dst-3.0_16_1_hh_database.csv', sep = ';')"
   ]
  },
  {
   "cell_type": "markdown",
   "id": "b583485d-1f9e-494e-ada4-80ffff7c53d6",
   "metadata": {},
   "source": [
    "2. Выведите несколько первых (последних) строк таблицы, чтобы убедиться в том, что ваши данные не повреждены. Ознакомьтесь с признаками и их структурой."
   ]
  },
  {
   "cell_type": "code",
   "execution_count": null,
   "id": "5408c52c-3407-4a63-b25b-1aafa2322d28",
   "metadata": {},
   "outputs": [],
   "source": [
    "#ваш код здесь\n",
    "\n",
    "df_origin.shape\n",
    "df_origin.tail(3)\n",
    "df_origin.isnull().value_counts()\n",
    "df_origin['Ищет работу на должность:'].mode()\n",
    "df_origin['Опыт работы'].value_counts()"
   ]
  },
  {
   "cell_type": "markdown",
   "id": "a2bfff1f-c975-4bf6-84be-2185d79dcb76",
   "metadata": {},
   "source": [
    "3. Выведите основную информацию о числе непустых значений в столбцах и их типах в таблице."
   ]
  },
  {
   "cell_type": "markdown",
   "id": "41bb59f3-53cc-4a67-a5bc-bedf573955e4",
   "metadata": {},
   "source": [
    "4. Обратите внимание на информацию о числе непустых значений."
   ]
  },
  {
   "cell_type": "code",
   "execution_count": null,
   "id": "d286cf4c-707b-4cd2-9190-7ab3587d04a1",
   "metadata": {},
   "outputs": [],
   "source": [
    "#ваш код здесь\n",
    "df_origin.isnull().mean()"
   ]
  },
  {
   "cell_type": "markdown",
   "id": "9a8a2181-6914-448b-85f1-38f5f18b8a93",
   "metadata": {},
   "source": [
    "5. Выведите основную статистическую информацию о столбцах.\n"
   ]
  },
  {
   "cell_type": "code",
   "execution_count": null,
   "id": "be4e9bd3-a4db-4a20-82fb-6b02fc2957e0",
   "metadata": {},
   "outputs": [],
   "source": [
    "#ваш код здесь\n",
    "df_origin.info()\n"
   ]
  },
  {
   "cell_type": "markdown",
   "id": "8d62a9f3-f64e-4fe7-bdac-c4dffa16155e",
   "metadata": {},
   "source": [
    "# Преобразование данных"
   ]
  },
  {
   "cell_type": "markdown",
   "id": "93053d3d-b284-481a-9cf7-012d7014c0e0",
   "metadata": {},
   "source": [
    "1. Начнем с простого - с признака **\"Образование и ВУЗ\"**. Его текущий формат это: **<Уровень образования год выпуска ВУЗ специальность...>**. Например:\n",
    "* Высшее образование 2016 Московский авиационный институт (национальный исследовательский университет)...\n",
    "* Неоконченное высшее образование 2000  Балтийская государственная академия рыбопромыслового флота…\n",
    "Нас будет интересовать только уровень образования.\n",
    "\n",
    "Создайте с помощью функции-преобразования новый признак **\"Образование\"**, который должен иметь 4 категории: \"высшее\", \"неоконченное высшее\", \"среднее специальное\" и \"среднее\".\n",
    "\n",
    "Выполните преобразование, ответьте на контрольные вопросы и удалите признак \"Образование и ВУЗ\".\n",
    "\n",
    "Совет: обратите внимание на структуру текста в столбце **\"Образование и ВУЗ\"**. Гарантируется, что текущий уровень образования соискателя всегда находится в первых 2ух слов и начинается с заглавной буквы. Воспользуйтесь этим.\n",
    "\n",
    "*Совет: проверяйте полученные категории, например, с помощью метода unique()*\n"
   ]
  },
  {
   "cell_type": "code",
   "execution_count": 4,
   "id": "ea2b2eb3",
   "metadata": {},
   "outputs": [],
   "source": [
    "df_test = df_origin.copy()"
   ]
  },
  {
   "cell_type": "code",
   "execution_count": 5,
   "id": "3f069da6-fdc9-4ae7-b514-fafe2675efd3",
   "metadata": {},
   "outputs": [],
   "source": [
    "# ваш код здесь\n",
    "def get_education(educ_univer):\n",
    "      list_stady = educ_univer.split(' ')\n",
    "      if list_stady[1] == 'образование':\n",
    "            stady = list_stady[0].lower()\n",
    "      else:\n",
    "            stady = list_stady[0].lower() + ' ' + list_stady[1]\n",
    "      return stady\n",
    "\n",
    "df_test['Образование'] = df_test['Образование и ВУЗ'].apply(get_education)\n",
    "# df_test['Образование'].unique()\n",
    "df_test = df_test.drop('Образование и ВУЗ', axis=1)\n",
    "# Сколько соискателей имеет средний уровень образования (школьное образование)?\n",
    "# (df_test['Образование'].value_counts())['среднее']"
   ]
  },
  {
   "cell_type": "markdown",
   "id": "4266f0b6-1646-492a-88b4-2f6a46502135",
   "metadata": {},
   "source": [
    "2. Теперь нас интересует столбец **\"Пол, возраст\"**. Сейчас он представлен в формате **<Пол , возраст , дата рождения >**. Например:\n",
    "* Мужчина , 39 лет , родился 27 ноября 1979 \n",
    "* Женщина , 21 год , родилась 13 января 2000\n",
    "Как вы понимаете, нам необходимо выделить каждый параметр в отдельный столбец.\n",
    "\n",
    "Создайте два новых признака **\"Пол\"** и **\"Возраст\"**. При этом важно учесть:\n",
    "* Признак пола должен иметь 2 уникальных строковых значения: 'М' - мужчина, 'Ж' - женщина. \n",
    "* Признак возраста должен быть представлен целыми числами.\n",
    "\n",
    "Выполните преобразование, ответьте на контрольные вопросы и удалите признак **\"Пол, возраст\"** из таблицы.\n",
    "\n",
    "*Совет: обратите внимание на структуру текста в столбце, в части на то, как разделены параметры пола, возраста и даты рождения между собой - символом ' , '. \n",
    "Гарантируется, что структура одинакова для всех строк в таблице. Вы можете воспользоваться этим.*\n"
   ]
  },
  {
   "cell_type": "code",
   "execution_count": 6,
   "id": "093234ee",
   "metadata": {},
   "outputs": [],
   "source": [
    "#ваш код здесь\n",
    "def get_sex(age_sex):\n",
    "      list_adge_sex = age_sex.split(' ')\n",
    "      if list_adge_sex[0] == 'Мужчина':\n",
    "            sex = 'М'\n",
    "      else:\n",
    "            sex = 'Ж'\n",
    "      return sex\n",
    "\n",
    "def get_age(age_sex):\n",
    "      list_adge_sex = age_sex.split(' ')\n",
    "      age = int(list_adge_sex[3])\n",
    "      return age\n",
    "\n",
    "df_test['Пол'] = df_test['Пол, возраст'].apply(get_sex)\n",
    "df_test['Возраст'] = df_test['Пол, возраст'].apply(get_age)\n",
    "df_test = df_test.drop('Пол, возраст', axis=1)\n",
    "# Сколько процентов женских резюме представлено в наших данных?\n",
    "# round((df_test['Пол'].value_counts(normalize=True))[1] * 100, 2)\n",
    "# Чему равен средний возраст соискателей?\n",
    "# round(df_test['Возраст'].mean(), 1)"
   ]
  },
  {
   "cell_type": "markdown",
   "id": "635c4d5d-f323-4c66-b428-50a088120aa0",
   "metadata": {},
   "source": [
    "3. Следующим этапом преобразуем признак **\"Опыт работы\"**. Его текущий формат - это: **<Опыт работы: n лет m месяцев, периоды работы в различных компаниях…>**. \n",
    "\n",
    "Из столбца нам необходимо выделить общий опыт работы соискателя в месяцах, новый признак назовем \"Опыт работы (месяц)\"\n",
    "\n",
    "Для начала обсудим условия решения задачи:\n",
    "* Во-первых, в данном признаке есть пропуски. Условимся, что если мы встречаем пропуск, оставляем его как есть (функция-преобразование возвращает NaN)\n",
    "* Во-вторых, в данном признаке есть скрытые пропуски. Для некоторых соискателей в столбце стоит значения \"Не указано\". Их тоже обозначим как NaN (функция-преобразование возвращает NaN)\n",
    "* В-третьих, нас не интересует информация, которая описывается после указания опыта работы (периоды работы в различных компаниях)\n",
    "* В-четвертых, у нас есть проблема: опыт работы может быть представлен только в годах или только месяцах. Например, можно встретить следующие варианты:\n",
    "    * Опыт работы 3 года 2 месяца…\n",
    "    * Опыт работы 4 года…\n",
    "    * Опыт работы 11 месяцев…\n",
    "    * Учитывайте эту особенность в вашем коде\n",
    "\n",
    "Учитывайте эту особенность в вашем коде\n",
    "\n",
    "В результате преобразования у вас должен получиться столбец, содержащий информацию о том, сколько месяцев проработал соискатель.\n",
    "Выполните преобразование, ответьте на контрольные вопросы и удалите столбец **\"Опыт работы\"** из таблицы.\n"
   ]
  },
  {
   "cell_type": "code",
   "execution_count": 7,
   "id": "603cdbe4-0ec3-4106-8eaf-c73fcdd29165",
   "metadata": {},
   "outputs": [],
   "source": [
    "#ваш код здесь\n",
    "for i in range(len(df_test)):      \n",
    "      if df_test.loc[i, 'Опыт работы'] == 'Не указано':\n",
    "            df_test.loc[i, 'Опыт работы'] = np.nan\n",
    "         \n",
    "def get_experience(arg):\n",
    "      month_key_words = ['месяц', 'месяцев', 'месяца']\n",
    "      year_key_words = ['год', 'лет', 'года']\n",
    "      if type(arg) == float:\n",
    "            return np.nan\n",
    "      else:\n",
    "            first_splited = arg.split('  ')\n",
    "            second_splited = first_splited[0].split(' ')\n",
    "            month = 0\n",
    "            year = 0\n",
    "            for i in range(len(second_splited)):\n",
    "                  if second_splited[i] in month_key_words:\n",
    "                        month = second_splited[i-1]\n",
    "                  if second_splited[i] in year_key_words:\n",
    "                        year = second_splited[i-1]\n",
    "            return int(year)*12 + int(month)\n",
    "\n",
    "df_test['Опыт работы (месяц)'] = df_test['Опыт работы'].apply(get_experience)\n",
    "df_test = df_test.drop('Опыт работы', axis=1)\n",
    "# Чему равен медианный опыт работы (в месяцах) в нашей таблице?\n",
    "# df_test['Опыт работы (месяц)'].median()\n",
    "\n",
    "\n",
    "# "
   ]
  },
  {
   "cell_type": "markdown",
   "id": "f3fdaec9-5fd3-4260-9cf5-1d7406b628a5",
   "metadata": {},
   "source": [
    "4. Хорошо идем! Следующий на очереди признак \"Город, переезд, командировки\". Информация в нем представлена в следующем виде: **<Город , (метро) , готовность к переезду (города для переезда) , готовность к командировкам>**. В скобках указаны необязательные параметры строки. Например, можно встретить следующие варианты:\n",
    "\n",
    "* Москва , не готов к переезду , готов к командировкам\n",
    "* Москва , м. Беломорская , не готов к переезду, не готов к командировкам\n",
    "* Воронеж , готов к переезду (Сочи, Москва, Санкт-Петербург) , готов к командировкам\n",
    "\n",
    "Создадим отдельные признаки **\"Город\"**, **\"Готовность к переезду\"**, **\"Готовность к командировкам\"**. При этом важно учесть:\n",
    "\n",
    "* Признак **\"Город\"** должен содержать только 4 категории: \"Москва\", \"Санкт-Петербург\" и \"город-миллионник\" (их список ниже), остальные обозначьте как \"другие\".\n",
    "\n",
    "    Список городов-миллионников:\n",
    "    \n",
    "   <code>million_cities = ['Новосибирск', 'Екатеринбург','Нижний Новгород','Казань', 'Челябинск','Омск', 'Самара', 'Ростов-на-Дону', 'Уфа', 'Красноярск', 'Пермь', 'Воронеж','Волгоград']\n",
    "    </code>\n",
    "    Инфорация о метро, рядом с которым проживает соискатель нас не интересует.\n",
    "* Признак **\"Готовность к переезду\"** должен иметь два возможных варианта: True или False. Обратите внимание, что возможны несколько вариантов описания готовности к переезду в признаке \"Город, переезд, командировки\". Например:\n",
    "    * … , готов к переезду , …\n",
    "    * … , не готова к переезду , …\n",
    "    * … , готова к переезду (Москва, Санкт-Петербург, Ростов-на-Дону)\n",
    "    * … , хочу переехать (США) , …\n",
    "    \n",
    "    Нас интересует только сам факт возможности или желания переезда.\n",
    "* Признак **\"Готовность к командировкам\"** должен иметь два возможных варианта: True или False. Обратите внимание, что возможны несколько вариантов описания готовности к командировкам в признаке \"Город, переезд, командировки\". Например:\n",
    "    * … , готов к командировкам , … \n",
    "    * … , готова к редким командировкам , …\n",
    "    * … , не готов к командировкам , …\n",
    "    \n",
    "    Нас интересует только сам факт готовности к командировке.\n",
    "    \n",
    "    Еще один важный факт: при выгрузки данных у некоторых соискателей \"потерялась\" информация о готовности к командировкам. Давайте по умолчанию будем считать, что такие соискатели не готовы к командировкам.\n",
    "    \n",
    "Выполните преобразования и удалите столбец **\"Город, переезд, командировки\"** из таблицы.\n",
    "\n",
    "*Совет: обратите внимание на то, что структура текста может меняться в зависимости от указания ближайшего метро. Учите это, если будете использовать порядок слов в своей программе.*\n"
   ]
  },
  {
   "cell_type": "code",
   "execution_count": 8,
   "id": "1ea710ec-871b-431e-9462-c7d0fd87011b",
   "metadata": {},
   "outputs": [],
   "source": [
    "# создание признака 'Город'\n",
    "#dd = df_test.copy()\n",
    "\n",
    "million_cities = ['Новосибирск', 'Екатеринбург','Нижний Новгород','Казань', 'Челябинск','Омск', 'Самара', 'Ростов-на-Дону', 'Уфа', 'Красноярск', 'Пермь', 'Воронеж','Волгоград']\n",
    "def get_city(args):\n",
    "      list_split = args.split(' ')\n",
    "      if list_split[0] == 'Москва':\n",
    "            return list_split[0]\n",
    "      elif list_split[0] == 'Санкт-Петербург':\n",
    "            return list_split[0]\n",
    "      elif list_split[0] in million_cities:\n",
    "            return 'город-миллионик'\n",
    "      else:\n",
    "            return 'другие'\n",
    "\n",
    "df_test['Город'] = df_test['Город, переезд, командировки'].apply(get_city)\n",
    "# Сколько процентов соискателей живут в Санкт-Петербурге? Ответ округлите до целого.\n",
    "# dd['Город'].value_counts(normalize=True)\n",
    "\n",
    "# создание признака 'Готовность к переезду'\n",
    "def get_run(args):\n",
    "        list_split = args.split(' , ')\n",
    "        list_split_2 = list_split[-2]\n",
    "        if list_split_2[0] == 'н':\n",
    "                return False\n",
    "        else:\n",
    "             return True   \n",
    "                \n",
    "df_test['Готовность к переезду'] = df_test['Город, переезд, командировки'].apply(get_run)\n",
    "# Сколько процентов соискателей готовы одновременно и к переездам, и к командировкам?\n",
    "# df_test[(df_test['Готовность к переезду'] == True) & (df_test['Готовность к командировкам'] == True)].count() * 100 / len(df_test)\n",
    "\n",
    "def get_comand(args):\n",
    "        list_split = args.split(',')\n",
    "        list_split_2 = list_split[-1].split(' ')\n",
    "        if list_split_2 == ['']:\n",
    "                return False\n",
    "        elif list_split_2[1] == 'не':\n",
    "                return False\n",
    "        else:\n",
    "            return True \n",
    "\n",
    "df_test['Готовность к командировкам'] = df_test['Город, переезд, командировки'].apply(get_comand)\n",
    "df_test = df_test.drop('Город, переезд, командировки', axis=1) "
   ]
  },
  {
   "cell_type": "markdown",
   "id": "0136ffee-0ead-4a6b-b608-61d1c753a438",
   "metadata": {},
   "source": [
    "5. Рассмотрим поближе признаки **\"Занятость\"** и **\"График\"**. Сейчас признаки представляют собой набор категорий желаемой занятости (полная занятость, частичная занятость, проектная работа, волонтерство, стажировка) и желаемого графика работы (полный день, сменный график, гибкий график, удаленная работа, вахтовый метод).\n",
    "На сайте hh.ru соискатель может указывать различные комбинации данных категорий, например:\n",
    "* полная занятость, частичная занятость\n",
    "* частичная занятость, проектная работа, волонтерство\n",
    "* полный день, удаленная работа\n",
    "* вахтовый метод, гибкий график, удаленная работа, полная занятость\n",
    "\n",
    "Такой вариант признаков имеет множество различных комбинаций, а значит множество уникальных значений, что мешает анализу. Нужно это исправить!\n",
    "\n",
    "Давайте создадим признаки-мигалки для каждой категории: если категория присутствует в списке желаемых соискателем, то в столбце на месте строки рассматриваемого соискателя ставится True, иначе - False.\n",
    "\n",
    "Такой метод преобразования категориальных признаков называется One Hot Encoding и его схема представлена на рисунке ниже:\n",
    "<img src=https://raw.githubusercontent.com/AndreyRysistov/DatasetsForPandas/main/ohe.jpg>\n",
    "Выполните данное преобразование для признаков \"Занятость\" и \"График\", ответьте на контрольные вопросы, после чего удалите их из таблицы"
   ]
  },
  {
   "cell_type": "code",
   "execution_count": null,
   "id": "ccd874e1",
   "metadata": {},
   "outputs": [],
   "source": [
    "# создание признаков-мигалок: 'полная занятость', 'частичная занятость', 'проектная работа', 'волонтёрство', 'стажировка'\n",
    "# создание признаков-мигалок:'полный день', 'сменный график', 'гибкий график', 'удалённая работа', 'вахтовый метод'\n",
    "# 1m 45s обработка\n",
    "\n",
    "for k in range(len(df_test)):\n",
    "        list_split = df_test.loc[k, 'Занятость'].split(', ')\n",
    "        for i in list_split:\n",
    "                df_test.loc[k, i] = True\n",
    "        list_split_gr = df_test.loc[k, 'График'].split(', ')\n",
    "        for i in list_split_gr:\n",
    "                df_test.loc[k, i] = True\n",
    "                \n",
    "# исправление пустых данных в признаке-мигалке на False\n",
    "employment = ['полная занятость', 'частичная занятость', 'проектная работа', 'волонтерство', 'стажировка']\n",
    "schedule = ['полный день', 'сменный график', 'гибкий график', 'удаленная работа', 'вахтовый метод']\n",
    "all_list = employment + schedule\n",
    "for i in all_list:\n",
    "        for k in range(len(df_test)):       \n",
    "                if pd.isna(df_test.loc[k, i]) == True:\n",
    "                        df_test.loc[k, i] = False\n",
    "                        \n",
    "df_test = df_test.drop('Занятость', axis=1)\n",
    "df_test = df_test.drop('График', axis=1)      \n",
    "\n",
    "# приведение к типу bool\n",
    "list_bool = all_list\n",
    "for i in list_bool:\n",
    "        df_test[i] = df_test[i].astype(bool)\n",
    "\n",
    "# Сколько людей ищут проектную работу и волонтёрство (в обоих столбцах стоит True)?\n",
    "df_test[(df_test['проектная работа'] == True) & (df_test['волонтерство'] == True)].count()\n",
    "# Сколько людей хотят работать вахтовым методом и с гибким графиком (в обоих столбцах стоит True)?\n",
    "df_test[(df_test['вахтовый метод'] == True) & (df_test['гибкий график'] == True)].count()\n",
    "\n",
    "\n",
    "# Удаление столбов созданых признаков-мигалок\n",
    "# for i in all_list:\n",
    "#        dd = dd.drop(i, axis=1)\n",
    "                "
   ]
  },
  {
   "cell_type": "markdown",
   "id": "344f123c-b63b-43dd-a8a4-809c1f1bb443",
   "metadata": {},
   "source": [
    "6. (2 балла) Наконец, мы добрались до самого главного и самого важного - признака заработной платы **\"ЗП\"**. \n",
    "В чем наша беда? В том, что помимо желаемой заработной платы соискатель указывает валюту, в которой он бы хотел ее получать, например:\n",
    "* 30000 руб.\n",
    "* 50000 грн.\n",
    "* 550 USD\n",
    "\n",
    "Нам бы хотелось видеть заработную плату в единой валюте, например, в рублях. Возникает вопрос, а где взять курс валют по отношению к рублю?\n",
    "\n",
    "На самом деле язык Python имеет в арсенале огромное количество возможностей получения данной информации, от обращения к API Центробанка, до использования специальных библиотек, например pycbrf. Однако, это не тема нашего проекта.\n",
    "\n",
    "Поэтому мы пойдем в лоб: обратимся к специальным интернет-ресурсам для получения данных о курсе в виде текстовых файлов. Например, MDF.RU, данный ресурс позволяет удобно экспортировать данные о курсах различных валют и акций за указанные периоды в виде csv файлов. Мы уже сделали выгрузку курсов валют, которые встречаются в наших данных за период с 29.12.2017 по 05.12.2019. Скачать ее вы можете **на платформе**\n",
    "\n",
    "Создайте новый DataFrame из полученного файла. В полученной таблице нас будут интересовать столбцы:\n",
    "* \"currency\" - наименование валюты в ISO кодировке,\n",
    "* \"date\" - дата, \n",
    "* \"proportion\" - пропорция, \n",
    "* \"close\" - цена закрытия (последний зафиксированный курс валюты на указанный день).\n",
    "\n",
    "\n",
    "Перед вами таблица соответствия наименований иностранных валют в наших данных и их общепринятых сокращений, которые представлены в нашем файле с курсами валют. Пропорция - это число, за сколько единиц валюты указан курс в таблице с курсами. Например, для казахстанского тенге курс на 20.08.2019 составляет 17.197 руб. за 100 тенге, тогда итоговый курс равен - 17.197 / 100 = 0.17197 руб за 1 тенге.\n",
    "Воспользуйтесь этой информацией в ваших преобразованиях.\n",
    "\n",
    "<img src=https://raw.githubusercontent.com/AndreyRysistov/DatasetsForPandas/main/table.jpg>\n",
    "\n",
    "\n",
    "Осталось только понять, откуда брать дату, по которой определяется курс? А вот же она - в признаке **\"Обновление резюме\"**, в нем содержится дата и время, когда соискатель выложил текущий вариант своего резюме. Нас интересует только дата, по ней мы и будем сопоставлять курсы валют.\n",
    "\n",
    "Теперь у нас есть вся необходимая информация для того, чтобы создать признак \"ЗП (руб)\" - заработная плата в рублях.\n",
    "\n",
    "После ответа на контрольные вопросы удалите исходный столбец заработной платы \"ЗП\" и все промежуточные столбцы, если вы их создавали."
   ]
  },
  {
   "cell_type": "markdown",
   "id": "6d794257-61f5-4124-956b-67b92b9391a7",
   "metadata": {
    "tags": []
   },
   "source": [
    "Итак, давайте обсудим возможный алгоритм преобразования: \n",
    "1. Перевести признак \"Обновление резюме\" из таблицы с резюме в формат datetime и достать из него дату. В тот же формат привести признак \"date\" из таблицы с валютами.\n",
    "2. Выделить из столбца \"ЗП\" сумму желаемой заработной платы и наименование валюты, в которой она исчисляется. Наименование валюты перевести в стандарт ISO согласно с таблицей выше.\n",
    "3. Присоединить к таблице с резюме таблицу с курсами по столбцам с датой и названием валюты (подумайте, какой тип объединения надо выбрать, чтобы в таблице с резюме сохранились данные о заработной плате, изначально представленной в рублях). Значение close для рубля заполнить единицей 1 (курс рубля самого к себе)\n",
    "4. Умножить сумму желаемой заработной платы на присоединенный курс валюты (close) и разделить на пропорцию (обратите внимание на пропуски после объединения в этих столбцах), результат занести в новый столбец \"ЗП (руб)\".\n"
   ]
  },
  {
   "cell_type": "code",
   "execution_count": 10,
   "id": "e91f87ed-e25c-4f96-9f92-b642e8c0b4fa",
   "metadata": {},
   "outputs": [
    {
     "data": {
      "text/plain": [
       "59019.0"
      ]
     },
     "execution_count": 10,
     "metadata": {},
     "output_type": "execute_result"
    }
   ],
   "source": [
    "#ваш код здесь\n",
    "df_Exchange = pd.read_csv('ExchangeRates.csv')\n",
    "df_Exchange['date'] = pd.to_datetime(df_Exchange['date'], errors='coerce')\n",
    "df_Exchange = df_Exchange.rename(columns={'date': 'Обновление резюме'})\n",
    "df_Exchange = df_Exchange.rename(columns={'currency': 'валюта'})\n",
    "df_Exchange['close'] = df_Exchange['close'].astype(float)\n",
    "\n",
    "# Приведение в формат %Y-%m-%d, отсекание времени\n",
    "#dd['Обновление резюме'] = pd.to_datetime(dd['Обновление резюме'], errors='coerce')\n",
    "def get_date(args):\n",
    "        args = pd.to_datetime(args, errors='coerce')\n",
    "        return args.strftime('%Y-%m-%d')\n",
    "df_test['Обновление резюме'] = df_test['Обновление резюме'].apply(get_date)\n",
    "df_test = df_test.astype({'Обновление резюме': np.datetime64})\n",
    "\n",
    "# Выделение суммы ЗП\n",
    "def get_wages(args):\n",
    "        list = args.split(' ')\n",
    "        return list[0]\n",
    "df_test['ЗП число'] = df_test['ЗП'].apply(get_wages)\n",
    "\n",
    "# Перевод наименование валюты в стандарт ISO\n",
    "def  get_currency(args):\n",
    "        temp = {'руб': 'RUB', 'грн': 'UAH', 'USD': 'USD', 'EUR': 'EUR', 'бел': 'BYN', 'KGS': 'KGS', 'сум': 'UZS', 'AZN': 'AZN', 'KZT': 'KZT'}\n",
    "        list_split = args.split(' ')\n",
    "        list_split_2 = list_split[1].split('.')\n",
    "        return temp[list_split_2[0]]\n",
    "df_test['валюта'] = df_test['ЗП'].apply(get_currency)\n",
    "\n",
    "# объединение\n",
    "merged = df_test.merge(\n",
    "    df_Exchange,\n",
    "    on=['Обновление резюме', 'валюта'],\n",
    "    how='left'\n",
    ")\n",
    "\n",
    "for i in ['per', 'time', 'vol']:\n",
    "         merged = merged.drop(i, axis=1)\n",
    "\n",
    "# Установка цены close = 1 для RUB и proportion\n",
    "def remove_nan(args):\n",
    "    if pd.isna(args) == True:\n",
    "            return 1\n",
    "    else:\n",
    "        return args\n",
    "merged['close'] = merged['close'].apply(remove_nan)\n",
    "merged['proportion'] = merged['proportion'].apply(remove_nan)\n",
    "merged['ЗП число'] = merged['ЗП число'].astype(int)\n",
    "merged['ЗП (руб)'] = merged['ЗП число'] * merged['close'] / merged['proportion'] \n",
    "\n",
    "# удаление ненужных\\отработаных признаков\n",
    "list_del = ['ЗП', 'ЗП число', 'валюта', 'close', 'proportion']\n",
    "for i in list_del:\n",
    "        merged = merged.drop(i, axis=1)\n",
    "  \n",
    "# Чему равна желаемая медианная заработная плата соискателей в нашей таблице (в рублях)?\n",
    "merged['ЗП (руб)'].median()"
   ]
  },
  {
   "cell_type": "code",
   "execution_count": 119,
   "id": "0eacca59",
   "metadata": {},
   "outputs": [],
   "source": [
    "#merged.to_csv('data_HH')\n",
    "\n",
    "df.to_csv('data_HHH')\n"
   ]
  },
  {
   "cell_type": "markdown",
   "id": "7ea20ab6-04a7-40a0-adec-443a0e5a42c3",
   "metadata": {},
   "source": [
    "# Исследование зависимостей в данных"
   ]
  },
  {
   "cell_type": "markdown",
   "id": "968aed80-74ef-4ffb-b5bf-c65b84e9caea",
   "metadata": {},
   "source": [
    "1. Постройте распределение признака **\"Возраст\"**. Опишите распределение, отвечая на следующие вопросы: чему равна мода распределения, каковы предельные значения признака, в каком примерном интервале находится возраст большинства соискателей? Есть ли аномалии для признака возраста, какие значения вы бы причислили к их числу?\n",
    "*Совет: постройте гистограмму и коробчатую диаграмму рядом.*"
   ]
  },
  {
   "cell_type": "code",
   "execution_count": 2,
   "id": "fed25353",
   "metadata": {},
   "outputs": [],
   "source": [
    "import pandas as pd\n",
    "import numpy as np\n",
    "import matplotlib.pyplot as plt\n",
    "import seaborn as sns\n",
    "import plotly.express as px\n",
    "\n",
    "data_HH = pd.read_csv('data_HH')\n",
    "data_HH = data_HH.drop('Unnamed: 0', axis=1)"
   ]
  },
  {
   "cell_type": "code",
   "execution_count": 30,
   "id": "f2d62796-d400-4ec1-a675-88112739a50e",
   "metadata": {},
   "outputs": [
    {
     "data": {
      "text/plain": [
       "0    30\n",
       "Name: Возраст, dtype: int64"
      ]
     },
     "execution_count": 30,
     "metadata": {},
     "output_type": "execute_result"
    },
    {
     "data": {
      "image/png": "[encoded data removed]",
      "text/plain": [
       "<Figure size 800x600 with 2 Axes>"
      ]
     },
     "metadata": {},
     "output_type": "display_data"
    }
   ],
   "source": [
    "# ваш код здесь\n",
    "df = data_HH['Возраст']\n",
    "# визуализация систем координат\n",
    "fig, axes = plt.subplots(nrows=2, ncols=1, figsize=(8, 6))\n",
    "\n",
    "# гистограмма\n",
    "axes[0].hist(\n",
    "    x=df, label=\"Возраст\", color=\"blue\", bins=20\n",
    ")\n",
    "axes[0].set_title(\"Гистограмма возрастной группы\")\n",
    "axes[0].xaxis.set_tick_params()\n",
    "\n",
    "# коробчатая\n",
    "dff = df.reset_index()\n",
    "sns.boxplot(data=dff, x=\"Возраст\")\n",
    "\n",
    "# Чему равно модальное значение возраста соискателей?\n",
    "data_HH[\"Возраст\"].mode()"
   ]
  },
  {
   "cell_type": "code",
   "execution_count": null,
   "id": "94d5a41c",
   "metadata": {},
   "outputs": [],
   "source": [
    "\n",
    "merged[(merged[\"Возраст\"] >= 25) & (merged[\"Возраст\"] <= 40)].count() * 100 / len(merged)\n",
    "merged[merged[\"Возраст\"] >= 75].count()"
   ]
  },
  {
   "cell_type": "markdown",
   "id": "88967466-5070-4bea-9e71-b3efefdc6e4a",
   "metadata": {},
   "source": [
    "\n",
    "Основная часть соискателей находится примерно в возрасте от 25 до 40 лет, это костяк трудового ресурса, ~ 72% от общего числа резюме. Самый часто встречающийся возраст(топовый) 30 лет у соискателей, средний возраст соискателя ~ 32 года. Видно по графику что больше соискателей в диапазоне от 30 и далее, чем до 30, так же график имеет более плавную, сглаженную структуру(параболическую). В коробчатой диаграмме видно выбросы: 1 соискатель в возрасте 100 лет, два соискателя  старше 75, итого 3 резюме, судить об ошибках пока рано, но вероятнее, что 100 лет - это шутка."
   ]
  },
  {
   "cell_type": "markdown",
   "id": "68377cfc-b378-43dc-ab7d-1195abf2c515",
   "metadata": {},
   "source": [
    "2. Постройте распределение признака **\"Опыт работы (месяц)\"**. Опишите данное распределение, отвечая на следующие вопросы: чему равна мода распределения, каковы предельные значения признака, в каком примерном интервале находится опыт работы большинства соискателей? Есть ли аномалии для признака опыта работы, какие значения вы бы причислили к их числу?\n",
    "*Совет: постройте гистограмму и коробчатую диаграмму рядом.*"
   ]
  },
  {
   "cell_type": "code",
   "execution_count": 241,
   "id": "dd7df27a-e3e8-412e-a21a-5d389b71e891",
   "metadata": {},
   "outputs": [
    {
     "data": {
      "text/plain": [
       "1188.0"
      ]
     },
     "execution_count": 241,
     "metadata": {},
     "output_type": "execute_result"
    },
    {
     "data": {
      "image/png": "[encoded data removed]",
      "text/plain": [
       "<Figure size 800x600 with 2 Axes>"
      ]
     },
     "metadata": {},
     "output_type": "display_data"
    }
   ],
   "source": [
    "# ваш код здесь\n",
    "df = data_HH['Опыт работы (месяц)']\n",
    "# визуализация систем координат\n",
    "fig, axes = plt.subplots(nrows=2, ncols=1, figsize=(8, 6))\n",
    "\n",
    "# гистограмма\n",
    "axes[0].hist(\n",
    "    x=df, label=\"index\", color=\"blue\", bins=20\n",
    ")\n",
    "axes[0].set_title(\"Гистограмма Опыт работы\")\n",
    "axes[0].xaxis.set_tick_params()\n",
    "\n",
    "# коробчатая\n",
    "dff = df.reset_index()\n",
    "sns.boxplot(data=dff, x=\"Опыт работы (месяц)\")\n",
    "\n",
    "# Чему равно модальное значение возраста соискателей?\n",
    "data_HH[\"Опыт работы (месяц)\"].max()"
   ]
  },
  {
   "cell_type": "code",
   "execution_count": 246,
   "id": "b42f3184",
   "metadata": {},
   "outputs": [
    {
     "data": {
      "text/plain": [
       "Series([], Name: Возраст, dtype: int64)"
      ]
     },
     "execution_count": 246,
     "metadata": {},
     "output_type": "execute_result"
    }
   ],
   "source": [
    "merged[merged[\"Опыт работы (месяц)\"] == '1188']['Возраст']"
   ]
  },
  {
   "cell_type": "markdown",
   "id": "7305c34b-089d-4986-be9f-5fa1c0ee281c",
   "metadata": {},
   "source": [
    "\n",
    "Основная часть соискателей имеет опыт до 150 мес.(12.5 лет) это ~ 73% от общего числа резюме. Самый часто встречающийся опыт(топовый) 81 мес.(6.75 лет), средний опыт соискателя ~ 114 мес.(9.5 лет). Видно по графику что после среднего показателя опыта в 114 мес. кол-во соискателей начинает плвно уменьшаться. В коробчатой диаграмме видно выбросы: 1 соискатель оказывается имеет опыт в 1188 мес это 99 лет, предположу что все таки это ошибка, ошиблись порядком и опыт должен быть 118.8 мес.(9.9 лет), три соискателя имеют опыт более 600мес.(50 лет) отчасти похоже на правду."
   ]
  },
  {
   "cell_type": "markdown",
   "id": "f2fe0acb-ab1a-4e15-9326-2560e22d73c1",
   "metadata": {},
   "source": [
    "3. Постройте распределение признака **\"ЗП (руб)\"**. Опишите данное распределение, отвечая на следующие вопросы: каковы предельные значения признака, в каком примерном интервале находится заработная плата большинства соискателей? Есть ли аномалии для признака возраста? Обратите внимание на гигантские размеры желаемой заработной платы.\n",
    "*Совет: постройте гистограмму и коробчатую диаграмму рядом.*\n"
   ]
  },
  {
   "cell_type": "code",
   "execution_count": 55,
   "id": "6271f8ad-bd2e-4196-ae4a-5b39c4c1010e",
   "metadata": {},
   "outputs": [
    {
     "data": {
      "text/plain": [
       "5    23\n",
       "dtype: int64"
      ]
     },
     "execution_count": 55,
     "metadata": {},
     "output_type": "execute_result"
    },
    {
     "data": {
      "image/png": "[encoded data removed]",
      "text/plain": [
       "<Figure size 1400x600 with 2 Axes>"
      ]
     },
     "metadata": {},
     "output_type": "display_data"
    }
   ],
   "source": [
    "# ваш код здесь\n",
    "df = data_HH.copy()\n",
    "# подправил 5 соискателей а ЗП 1,5 * e6\n",
    "df.loc[6931, 'ЗП (руб)'] = df.loc[6931, 'ЗП (руб)'] / 100\n",
    "g = df[df['ЗП (руб)'] > 1500000].index\n",
    "for i in g:\n",
    "    df.loc[i, 'ЗП (руб)'] = df.loc[i, 'ЗП (руб)'] / 10\n",
    "\n",
    "df_data = df['ЗП (руб)']\n",
    "\n",
    "# визуализация систем координат\n",
    "fig, axes = plt.subplots(nrows=2, ncols=1, figsize=(14, 6))\n",
    "\n",
    "# гистограмма\n",
    "axes[0].hist(\n",
    "    x=df_data, label=\"ЗП (руб)\", color=\"blue\", bins=20\n",
    ")\n",
    "axes[0].set_title(\"Гистограмма ЗП\")\n",
    "axes[0].xaxis.set_tick_params()\n",
    "\n",
    "# коробчатая\n",
    "df_data = df_data.reset_index()\n",
    "sns.boxplot(data=df_data, x=\"ЗП (руб)\")\n",
    "\n",
    "# Чему равно модальное значение возраста соискателей?\n",
    "merged[merged[\"ЗП (руб)\"] > 1000000].count().value_counts()"
   ]
  },
  {
   "cell_type": "code",
   "execution_count": 69,
   "id": "9971d9f5",
   "metadata": {},
   "outputs": [
    {
     "name": "stdout",
     "output_type": "stream",
     "text": [
      "оригинал дата, расчет моды 0    50000.0\n",
      "Name: ЗП (руб), dtype: float64\n",
      "исправленый дата, расчет моды 0    50000.0\n",
      "Name: ЗП (руб), dtype: float64\n",
      "оригинал дата, расчет % 80.69685320936885\n",
      "исправленый дата, расчет % 80.69685320936885\n",
      "оригинал дата, расчет средней 76533.53992967868\n",
      "исправленый дата, расчет средней 75695.56100870605\n"
     ]
    },
    {
     "data": {
      "text/plain": [
       "1.0"
      ]
     },
     "execution_count": 69,
     "metadata": {},
     "output_type": "execute_result"
    }
   ],
   "source": [
    "print('оригинал дата, расчет моды', data_HH[\"ЗП (руб)\"].mode())\n",
    "print('исправленый дата, расчет моды',df[\"ЗП (руб)\"].mode())\n",
    "orig = data_HH[(data_HH[\"ЗП (руб)\"] >= 0) & (data_HH[\"ЗП (руб)\"] <= 100000)].count() * 100 / len(data_HH)\n",
    "red = df[(df[\"ЗП (руб)\"] >= 0) & (df[\"ЗП (руб)\"] <= 100000)].count() * 100 / len(df)\n",
    "print('оригинал дата, расчет %', orig[\"ЗП (руб)\"])\n",
    "print('исправленый дата, расчет %', red[\"ЗП (руб)\"])\n",
    "print('оригинал дата, расчет средней', data_HH[\"ЗП (руб)\"].mean())\n",
    "print('исправленый дата, расчет средней', df[\"ЗП (руб)\"].mean())\n",
    "df[\"ЗП (руб)\"].describe()\n",
    "# Размер ЗП в верхнем пределе диаграммы\n",
    "upp = 95000 + 1.5 * (95000 - 37082)\n",
    "df[\"ЗП (руб)\"].min()\n"
   ]
  },
  {
   "cell_type": "markdown",
   "id": "6c39ca13-225e-48f7-a85c-ab07a6cc852a",
   "metadata": {},
   "source": [
    "Основная часть соискателей ищет ЗП до 100 тыс. руб. это ~ 80% от общего числа резюме. Самая желанная ЗП составляет 50 тыс. руб.(модальная). Видно по графику, что после среднего показателя ЗП ~ 76.5 тыс. руб. кол-во соискателей начинает плавно уменьшаться(по параболе).\n",
    "\n",
    "Изначально было произведена корректировка 5ти ЗП, их значение не давали визуально анализировать коробчатую диаграмму. макимальное ЗП в 24 миллиона просто поражает, была уменшена в 100 раз, остальные ЗП > 1.5*e6 ,были уменьшены в 10 раз, график стал читаем, исправление повлияло на показатель средней ЗП: средняя упала на 1.2 тыс. руб и составила ~ 75.7 тыс. руб. 1 соискатель указал ЗП в 1 миллион, решил пока не исправлять.Так же присутствует минимальное значение в 1р. предпологаю, что указано для увеличения кол-ва просмотров от работодателей при поиске в диапазоне скажем до 50 тыс.(обычно указывают верхний предел, при любом диапазоне резюме будет включено)\n",
    " В коробчатой диаграмме по исправленным данным видно выбросы выше значения в 182 тыс. руб."
   ]
  },
  {
   "cell_type": "markdown",
   "id": "eab2206d-d95b-468b-8e5f-34381abf0ce7",
   "metadata": {},
   "source": [
    "4. Постройте диаграмму, которая показывает зависимость **медианной** желаемой заработной платы (**\"ЗП (руб)\"**) от уровня образования (**\"Образование\"**). Используйте для диаграммы данные о резюме, где желаемая заработная плата меньше 1 млн рублей.\n",
    "*Сделайте выводы по представленной диаграмме: для каких уровней образования наблюдаются наибольшие и наименьшие уровни желаемой заработной платы? Как вы считаете, важен ли признак уровня образования при прогнозировании заработной платы?*"
   ]
  },
  {
   "cell_type": "code",
   "execution_count": 102,
   "id": "80defb23-bfb1-4a18-8be6-bf36aa7165d5",
   "metadata": {},
   "outputs": [
    {
     "data": {
      "image/png": "[encoded data removed]",
      "text/plain": [
       "<Figure size 640x480 with 1 Axes>"
      ]
     },
     "metadata": {},
     "output_type": "display_data"
    }
   ],
   "source": [
    "# ваш код здесь\n",
    "df = data_HH.copy()\n",
    "mask = df['ЗП (руб)'] < 1000000\n",
    "data = df[mask].groupby(by='Образование')['ЗП (руб)'].median().sort_values(ascending=True).plot(kind='bar');"
   ]
  },
  {
   "cell_type": "code",
   "execution_count": 88,
   "id": "f2be8d91",
   "metadata": {},
   "outputs": [
    {
     "ename": "NameError",
     "evalue": "name 'data' is not defined",
     "output_type": "error",
     "traceback": [
      "\u001b[1;31m---------------------------------------------------------------------------\u001b[0m",
      "\u001b[1;31mNameError\u001b[0m                                 Traceback (most recent call last)",
      "Cell \u001b[1;32mIn [88], line 1\u001b[0m\n\u001b[1;32m----> 1\u001b[0m data\n",
      "\u001b[1;31mNameError\u001b[0m: name 'data' is not defined"
     ]
    }
   ],
   "source": [
    "data"
   ]
  },
  {
   "cell_type": "markdown",
   "id": "dc463319-3f85-47dd-b66e-aecb0be0c76f",
   "metadata": {},
   "source": [
    "Среднее и среднее специальное образования имеют наименьший уровень желаемой ЗП. Высшее образование имеет наибольший уровень желаемой ЗП. При прогнозировании ЗП важно учитывать признак уровня образования."
   ]
  },
  {
   "cell_type": "markdown",
   "id": "0112af31-f6b0-4e3b-82ab-71296e752e5e",
   "metadata": {},
   "source": [
    "5. Постройте диаграмму, которая показывает распределение желаемой заработной платы (**\"ЗП (руб)\"**) в зависимости от города (**\"Город\"**). Используйте для диаграммы данные о резюме, где желая заработная плата меньше 1 млн рублей.\n",
    "*Сделайте выводы по полученной диаграмме: как соотносятся медианные уровни желаемой заработной платы и их размах в городах? Как вы считаете, важен ли признак города при прогнозировании заработной платы?*"
   ]
  },
  {
   "cell_type": "code",
   "execution_count": 109,
   "id": "973b0cfc-a972-470a-8b4a-68744ef220c4",
   "metadata": {},
   "outputs": [
    {
     "data": {
      "text/plain": [
       "33449    другие\n",
       "Name: Город, dtype: object"
      ]
     },
     "execution_count": 109,
     "metadata": {},
     "output_type": "execute_result"
    },
    {
     "data": {
      "image/png": "[encoded data removed]",
      "text/plain": [
       "<Figure size 640x480 with 1 Axes>"
      ]
     },
     "metadata": {},
     "output_type": "display_data"
    }
   ],
   "source": [
    "df = data_HH.copy()\n",
    "\n",
    "mask = df['ЗП (руб)'] < 1000000\n",
    "data = df[mask].groupby(by='Город')['ЗП (руб)'].median().sort_values(ascending=True).plot(kind='bar');\n",
    "\n",
    "# В каком городе (категории городов) зафиксирован наибольший показатель желаемой заработной платы\n",
    "# (~924 тысячи рублей)?\n",
    "mask2 = df['ЗП (руб)'] == 923983.0\n",
    "df[mask & mask2]['Город']"
   ]
  },
  {
   "cell_type": "markdown",
   "id": "2710ce73-2e81-4e38-b52f-833cd14ba47a",
   "metadata": {
    "tags": []
   },
   "source": [
    "Медианный уровень желаемой заработной платы наибольший в городах Санкт-Петербург и Москва. Поэтому при прогнозировании уровня ЗП следует учитывать признак только этих двух городов, остальные города-признаки можно не учитывать или объединить в одну общую - \"другие\"."
   ]
  },
  {
   "cell_type": "markdown",
   "id": "3bfcfdaf-755d-4d2b-8ed8-326201dc07ab",
   "metadata": {},
   "source": [
    "6. Постройте **многоуровневую столбчатую диаграмму**, которая показывает зависимость медианной заработной платы (**\"ЗП (руб)\"**) от признаков **\"Готовность к переезду\"** и **\"Готовность к командировкам\"**. Проанализируйте график, сравнив уровень заработной платы в категориях."
   ]
  },
  {
   "cell_type": "code",
   "execution_count": 199,
   "id": "ad3f270f-2991-47eb-929b-e8f88a55b0d1",
   "metadata": {},
   "outputs": [
    {
     "data": {
      "text/plain": [
       "<matplotlib.legend.Legend at 0x2d0975565c0>"
      ]
     },
     "execution_count": 199,
     "metadata": {},
     "output_type": "execute_result"
    },
    {
     "data": {
      "image/png": "[encoded data removed]",
      "text/plain": [
       "<Figure size 640x480 with 1 Axes>"
      ]
     },
     "metadata": {},
     "output_type": "display_data"
    }
   ],
   "source": [
    "df = data_HH.copy()\n",
    "data = df.groupby(by='Готовность к переезду')['ЗП (руб)'].median()\n",
    "data = data.reset_index()\n",
    "data2 = df.groupby(by='Готовность к командировкам')['ЗП (руб)'].median()#.plot(kind='bar');\n",
    "data2 = data2.reset_index()\n",
    "\n",
    "fig, ax = plt.subplots()\n",
    "rects1 = ax.bar(data['Готовность к переезду'], data['ЗП (руб)'],width = 0.6,  label='переезду')\n",
    "rects2 = ax.bar(data2['Готовность к командировкам'], data2['ЗП (руб)'],width= 0.4,  label='командировке')\n",
    "ax.set_title('зависимость медианной ЗП от готовности к')\n",
    "ax.set_xticks(data['Готовность к переезду'])\n",
    "ax.set_xticklabels(data['Готовность к переезду'])\n",
    "\n",
    "ax.legend()"
   ]
  },
  {
   "cell_type": "code",
   "execution_count": 252,
   "id": "31a2af12",
   "metadata": {},
   "outputs": [
    {
     "data": {
      "application/vnd.plotly.v1+json": {
       "config": {
        "plotlyServerURL": "https://plot.ly"
       },
       "data": [
        {
         "alignmentgroup": "True",
         "hovertemplate": "Готовность к командировкам=False<br>ЗП (руб)=%{x}<br>Готовность к переезду=%{y}<extra></extra>",
         "legendgroup": "False",
         "marker": {
          "color": "#636efa",
          "pattern": {
           "shape": ""
          }
         },
         "name": "False",
         "offsetgroup": "False",
         "orientation": "h",
         "showlegend": true,
         "textposition": "auto",
         "type": "bar",
         "x": [
          40000,
          50000
         ],
         "xaxis": "x",
         "y": [
          false,
          true
         ],
         "yaxis": "y"
        },
        {
         "alignmentgroup": "True",
         "hovertemplate": "Готовность к командировкам=True<br>ЗП (руб)=%{x}<br>Готовность к переезду=%{y}<extra></extra>",
         "legendgroup": "True",
         "marker": {
          "color": "#EF553B",
          "pattern": {
           "shape": ""
          }
         },
         "name": "True",
         "offsetgroup": "True",
         "orientation": "h",
         "showlegend": true,
         "textposition": "auto",
         "type": "bar",
         "x": [
          60000,
          67000
         ],
         "xaxis": "x",
         "y": [
          false,
          true
         ],
         "yaxis": "y"
        }
       ],
       "layout": {
        "barmode": "group",
        "legend": {
         "title": {
          "text": "Готовность к командировкам"
         },
         "tracegroupgap": 0
        },
        "template": {
         "data": {
          "bar": [
           {
            "error_x": {
             "color": "#2a3f5f"
            },
            "error_y": {
             "color": "#2a3f5f"
            },
            "marker": {
             "line": {
              "color": "#E5ECF6",
              "width": 0.5
             },
             "pattern": {
              "fillmode": "overlay",
              "size": 10,
              "solidity": 0.2
             }
            },
            "type": "bar"
           }
          ],
          "barpolar": [
           {
            "marker": {
             "line": {
              "color": "#E5ECF6",
              "width": 0.5
             },
             "pattern": {
              "fillmode": "overlay",
              "size": 10,
              "solidity": 0.2
             }
            },
            "type": "barpolar"
           }
          ],
          "carpet": [
           {
            "aaxis": {
             "endlinecolor": "#2a3f5f",
             "gridcolor": "white",
             "linecolor": "white",
             "minorgridcolor": "white",
             "startlinecolor": "#2a3f5f"
            },
            "baxis": {
             "endlinecolor": "#2a3f5f",
             "gridcolor": "white",
             "linecolor": "white",
             "minorgridcolor": "white",
             "startlinecolor": "#2a3f5f"
            },
            "type": "carpet"
           }
          ],
          "choropleth": [
           {
            "colorbar": {
             "outlinewidth": 0,
             "ticks": ""
            },
            "type": "choropleth"
           }
          ],
          "contour": [
           {
            "colorbar": {
             "outlinewidth": 0,
             "ticks": ""
            },
            "colorscale": [
             [
              0,
              "#0d0887"
             ],
             [
              0.1111111111111111,
              "#46039f"
             ],
             [
              0.2222222222222222,
              "#7201a8"
             ],
             [
              0.3333333333333333,
              "#9c179e"
             ],
             [
              0.4444444444444444,
              "#bd3786"
             ],
             [
              0.5555555555555556,
              "#d8576b"
             ],
             [
              0.6666666666666666,
              "#ed7953"
             ],
             [
              0.7777777777777778,
              "#fb9f3a"
             ],
             [
              0.8888888888888888,
              "#fdca26"
             ],
             [
              1,
              "#f0f921"
             ]
            ],
            "type": "contour"
           }
          ],
          "contourcarpet": [
           {
            "colorbar": {
             "outlinewidth": 0,
             "ticks": ""
            },
            "type": "contourcarpet"
           }
          ],
          "heatmap": [
           {
            "colorbar": {
             "outlinewidth": 0,
             "ticks": ""
            },
            "colorscale": [
             [
              0,
              "#0d0887"
             ],
             [
              0.1111111111111111,
              "#46039f"
             ],
             [
              0.2222222222222222,
              "#7201a8"
             ],
             [
              0.3333333333333333,
              "#9c179e"
             ],
             [
              0.4444444444444444,
              "#bd3786"
             ],
             [
              0.5555555555555556,
              "#d8576b"
             ],
             [
              0.6666666666666666,
              "#ed7953"
             ],
             [
              0.7777777777777778,
              "#fb9f3a"
             ],
             [
              0.8888888888888888,
              "#fdca26"
             ],
             [
              1,
              "#f0f921"
             ]
            ],
            "type": "heatmap"
           }
          ],
          "heatmapgl": [
           {
            "colorbar": {
             "outlinewidth": 0,
             "ticks": ""
            },
            "colorscale": [
             [
              0,
              "#0d0887"
             ],
             [
              0.1111111111111111,
              "#46039f"
             ],
             [
              0.2222222222222222,
              "#7201a8"
             ],
             [
              0.3333333333333333,
              "#9c179e"
             ],
             [
              0.4444444444444444,
              "#bd3786"
             ],
             [
              0.5555555555555556,
              "#d8576b"
             ],
             [
              0.6666666666666666,
              "#ed7953"
             ],
             [
              0.7777777777777778,
              "#fb9f3a"
             ],
             [
              0.8888888888888888,
              "#fdca26"
             ],
             [
              1,
              "#f0f921"
             ]
            ],
            "type": "heatmapgl"
           }
          ],
          "histogram": [
           {
            "marker": {
             "pattern": {
              "fillmode": "overlay",
              "size": 10,
              "solidity": 0.2
             }
            },
            "type": "histogram"
           }
          ],
          "histogram2d": [
           {
            "colorbar": {
             "outlinewidth": 0,
             "ticks": ""
            },
            "colorscale": [
             [
              0,
              "#0d0887"
             ],
             [
              0.1111111111111111,
              "#46039f"
             ],
             [
              0.2222222222222222,
              "#7201a8"
             ],
             [
              0.3333333333333333,
              "#9c179e"
             ],
             [
              0.4444444444444444,
              "#bd3786"
             ],
             [
              0.5555555555555556,
              "#d8576b"
             ],
             [
              0.6666666666666666,
              "#ed7953"
             ],
             [
              0.7777777777777778,
              "#fb9f3a"
             ],
             [
              0.8888888888888888,
              "#fdca26"
             ],
             [
              1,
              "#f0f921"
             ]
            ],
            "type": "histogram2d"
           }
          ],
          "histogram2dcontour": [
           {
            "colorbar": {
             "outlinewidth": 0,
             "ticks": ""
            },
            "colorscale": [
             [
              0,
              "#0d0887"
             ],
             [
              0.1111111111111111,
              "#46039f"
             ],
             [
              0.2222222222222222,
              "#7201a8"
             ],
             [
              0.3333333333333333,
              "#9c179e"
             ],
             [
              0.4444444444444444,
              "#bd3786"
             ],
             [
              0.5555555555555556,
              "#d8576b"
             ],
             [
              0.6666666666666666,
              "#ed7953"
             ],
             [
              0.7777777777777778,
              "#fb9f3a"
             ],
             [
              0.8888888888888888,
              "#fdca26"
             ],
             [
              1,
              "#f0f921"
             ]
            ],
            "type": "histogram2dcontour"
           }
          ],
          "mesh3d": [
           {
            "colorbar": {
             "outlinewidth": 0,
             "ticks": ""
            },
            "type": "mesh3d"
           }
          ],
          "parcoords": [
           {
            "line": {
             "colorbar": {
              "outlinewidth": 0,
              "ticks": ""
             }
            },
            "type": "parcoords"
           }
          ],
          "pie": [
           {
            "automargin": true,
            "type": "pie"
           }
          ],
          "scatter": [
           {
            "fillpattern": {
             "fillmode": "overlay",
             "size": 10,
             "solidity": 0.2
            },
            "type": "scatter"
           }
          ],
          "scatter3d": [
           {
            "line": {
             "colorbar": {
              "outlinewidth": 0,
              "ticks": ""
             }
            },
            "marker": {
             "colorbar": {
              "outlinewidth": 0,
              "ticks": ""
             }
            },
            "type": "scatter3d"
           }
          ],
          "scattercarpet": [
           {
            "marker": {
             "colorbar": {
              "outlinewidth": 0,
              "ticks": ""
             }
            },
            "type": "scattercarpet"
           }
          ],
          "scattergeo": [
           {
            "marker": {
             "colorbar": {
              "outlinewidth": 0,
              "ticks": ""
             }
            },
            "type": "scattergeo"
           }
          ],
          "scattergl": [
           {
            "marker": {
             "colorbar": {
              "outlinewidth": 0,
              "ticks": ""
             }
            },
            "type": "scattergl"
           }
          ],
          "scattermapbox": [
           {
            "marker": {
             "colorbar": {
              "outlinewidth": 0,
              "ticks": ""
             }
            },
            "type": "scattermapbox"
           }
          ],
          "scatterpolar": [
           {
            "marker": {
             "colorbar": {
              "outlinewidth": 0,
              "ticks": ""
             }
            },
            "type": "scatterpolar"
           }
          ],
          "scatterpolargl": [
           {
            "marker": {
             "colorbar": {
              "outlinewidth": 0,
              "ticks": ""
             }
            },
            "type": "scatterpolargl"
           }
          ],
          "scatterternary": [
           {
            "marker": {
             "colorbar": {
              "outlinewidth": 0,
              "ticks": ""
             }
            },
            "type": "scatterternary"
           }
          ],
          "surface": [
           {
            "colorbar": {
             "outlinewidth": 0,
             "ticks": ""
            },
            "colorscale": [
             [
              0,
              "#0d0887"
             ],
             [
              0.1111111111111111,
              "#46039f"
             ],
             [
              0.2222222222222222,
              "#7201a8"
             ],
             [
              0.3333333333333333,
              "#9c179e"
             ],
             [
              0.4444444444444444,
              "#bd3786"
             ],
             [
              0.5555555555555556,
              "#d8576b"
             ],
             [
              0.6666666666666666,
              "#ed7953"
             ],
             [
              0.7777777777777778,
              "#fb9f3a"
             ],
             [
              0.8888888888888888,
              "#fdca26"
             ],
             [
              1,
              "#f0f921"
             ]
            ],
            "type": "surface"
           }
          ],
          "table": [
           {
            "cells": {
             "fill": {
              "color": "#EBF0F8"
             },
             "line": {
              "color": "white"
             }
            },
            "header": {
             "fill": {
              "color": "#C8D4E3"
             },
             "line": {
              "color": "white"
             }
            },
            "type": "table"
           }
          ]
         },
         "layout": {
          "annotationdefaults": {
           "arrowcolor": "#2a3f5f",
           "arrowhead": 0,
           "arrowwidth": 1
          },
          "autotypenumbers": "strict",
          "coloraxis": {
           "colorbar": {
            "outlinewidth": 0,
            "ticks": ""
           }
          },
          "colorscale": {
           "diverging": [
            [
             0,
             "#8e0152"
            ],
            [
             0.1,
             "#c51b7d"
            ],
            [
             0.2,
             "#de77ae"
            ],
            [
             0.3,
             "#f1b6da"
            ],
            [
             0.4,
             "#fde0ef"
            ],
            [
             0.5,
             "#f7f7f7"
            ],
            [
             0.6,
             "#e6f5d0"
            ],
            [
             0.7,
             "#b8e186"
            ],
            [
             0.8,
             "#7fbc41"
            ],
            [
             0.9,
             "#4d9221"
            ],
            [
             1,
             "#276419"
            ]
           ],
           "sequential": [
            [
             0,
             "#0d0887"
            ],
            [
             0.1111111111111111,
             "#46039f"
            ],
            [
             0.2222222222222222,
             "#7201a8"
            ],
            [
             0.3333333333333333,
             "#9c179e"
            ],
            [
             0.4444444444444444,
             "#bd3786"
            ],
            [
             0.5555555555555556,
             "#d8576b"
            ],
            [
             0.6666666666666666,
             "#ed7953"
            ],
            [
             0.7777777777777778,
             "#fb9f3a"
            ],
            [
             0.8888888888888888,
             "#fdca26"
            ],
            [
             1,
             "#f0f921"
            ]
           ],
           "sequentialminus": [
            [
             0,
             "#0d0887"
            ],
            [
             0.1111111111111111,
             "#46039f"
            ],
            [
             0.2222222222222222,
             "#7201a8"
            ],
            [
             0.3333333333333333,
             "#9c179e"
            ],
            [
             0.4444444444444444,
             "#bd3786"
            ],
            [
             0.5555555555555556,
             "#d8576b"
            ],
            [
             0.6666666666666666,
             "#ed7953"
            ],
            [
             0.7777777777777778,
             "#fb9f3a"
            ],
            [
             0.8888888888888888,
             "#fdca26"
            ],
            [
             1,
             "#f0f921"
            ]
           ]
          },
          "colorway": [
           "#636efa",
           "#EF553B",
           "#00cc96",
           "#ab63fa",
           "#FFA15A",
           "#19d3f3",
           "#FF6692",
           "#B6E880",
           "#FF97FF",
           "#FECB52"
          ],
          "font": {
           "color": "#2a3f5f"
          },
          "geo": {
           "bgcolor": "white",
           "lakecolor": "white",
           "landcolor": "#E5ECF6",
           "showlakes": true,
           "showland": true,
           "subunitcolor": "white"
          },
          "hoverlabel": {
           "align": "left"
          },
          "hovermode": "closest",
          "mapbox": {
           "style": "light"
          },
          "paper_bgcolor": "white",
          "plot_bgcolor": "#E5ECF6",
          "polar": {
           "angularaxis": {
            "gridcolor": "white",
            "linecolor": "white",
            "ticks": ""
           },
           "bgcolor": "#E5ECF6",
           "radialaxis": {
            "gridcolor": "white",
            "linecolor": "white",
            "ticks": ""
           }
          },
          "scene": {
           "xaxis": {
            "backgroundcolor": "#E5ECF6",
            "gridcolor": "white",
            "gridwidth": 2,
            "linecolor": "white",
            "showbackground": true,
            "ticks": "",
            "zerolinecolor": "white"
           },
           "yaxis": {
            "backgroundcolor": "#E5ECF6",
            "gridcolor": "white",
            "gridwidth": 2,
            "linecolor": "white",
            "showbackground": true,
            "ticks": "",
            "zerolinecolor": "white"
           },
           "zaxis": {
            "backgroundcolor": "#E5ECF6",
            "gridcolor": "white",
            "gridwidth": 2,
            "linecolor": "white",
            "showbackground": true,
            "ticks": "",
            "zerolinecolor": "white"
           }
          },
          "shapedefaults": {
           "line": {
            "color": "#2a3f5f"
           }
          },
          "ternary": {
           "aaxis": {
            "gridcolor": "white",
            "linecolor": "white",
            "ticks": ""
           },
           "baxis": {
            "gridcolor": "white",
            "linecolor": "white",
            "ticks": ""
           },
           "bgcolor": "#E5ECF6",
           "caxis": {
            "gridcolor": "white",
            "linecolor": "white",
            "ticks": ""
           }
          },
          "title": {
           "x": 0.05
          },
          "xaxis": {
           "automargin": true,
           "gridcolor": "white",
           "linecolor": "white",
           "ticks": "",
           "title": {
            "standoff": 15
           },
           "zerolinecolor": "white",
           "zerolinewidth": 2
          },
          "yaxis": {
           "automargin": true,
           "gridcolor": "white",
           "linecolor": "white",
           "ticks": "",
           "title": {
            "standoff": 15
           },
           "zerolinecolor": "white",
           "zerolinewidth": 2
          }
         }
        },
        "title": {
         "text": "Медианная з/п по готовности к командировкам/переезду"
        },
        "xaxis": {
         "anchor": "y",
         "domain": [
          0,
          1
         ],
         "title": {
          "text": "ЗП (руб)"
         }
        },
        "yaxis": {
         "anchor": "x",
         "domain": [
          0,
          1
         ],
         "title": {
          "text": "Готовность к переезду"
         }
        }
       }
      }
     },
     "metadata": {},
     "output_type": "display_data"
    }
   ],
   "source": [
    "df = data_HH.copy()\n",
    "mask = df['Готовность к переезду'] == True\n",
    "mask2 = df['Готовность к командировкам'] == True\n",
    "ff = df[mask & mask2]['ЗП (руб)'].median()\n",
    "ff = df[mask & mask2].groupby(by='Готовность к переезду', as_index=False)['ЗП (руб)'].median()\n",
    "\n",
    "bar_data = data_HH.groupby(\n",
    "    ['Готовность к командировкам', 'Готовность к переезду'],\n",
    "    as_index=False\n",
    ")['ЗП (руб)'].median()\n",
    "bar_data\n",
    "fig = px.bar(\n",
    "    data_frame=bar_data,\n",
    "    y='Готовность к переезду',\n",
    "    x='ЗП (руб)',\n",
    "    barmode=\"group\",\n",
    "    color='Готовность к командировкам',\n",
    "    orientation='h',\n",
    "    title='Медианная з/п по готовности к командировкам/переезду'\n",
    ")\n",
    "fig.show()"
   ]
  },
  {
   "cell_type": "markdown",
   "id": "7048f37f",
   "metadata": {},
   "source": [
    "На диаграмме заметна зависимость повышения уровня желаемой медианной ЗП от готовности к командировкам и переездам, ожидание(желание) более высокой ЗП сводит к минимуму такой негативный признак как переезд и командировка."
   ]
  },
  {
   "cell_type": "markdown",
   "id": "7b02bb86-0546-40fb-94a4-242f050a5c57",
   "metadata": {},
   "source": [
    "7. Постройте сводную таблицу, иллюстрирующую зависимость **медианной** желаемой заработной платы от возраста (**\"Возраст\"**) и образования (**\"Образование\"**). На полученной сводной таблице постройте **тепловую карту**. Проанализируйте тепловую карту, сравнив показатели внутри групп."
   ]
  },
  {
   "cell_type": "code",
   "execution_count": 257,
   "id": "5a0e32a4-e68a-4365-8a39-2fe24c542c36",
   "metadata": {},
   "outputs": [
    {
     "data": {
      "image/png": "[encoded data removed]",
      "text/plain": [
       "<Figure size 640x480 with 2 Axes>"
      ]
     },
     "metadata": {},
     "output_type": "display_data"
    }
   ],
   "source": [
    "# ваш код здесь\n",
    "pivot = data_HH.pivot_table(\n",
    "    values='ЗП (руб)',\n",
    "    columns='Возраст',\n",
    "    index='Образование',\n",
    ")\n",
    "#pivot.columns = pivot.columns.astype('string')\n",
    "heatmap = sns.heatmap(data=pivot, cmap='YlGnBu')\n",
    "heatmap.set_title('Тепловая карта вакцинации', fontsize=16);"
   ]
  },
  {
   "cell_type": "markdown",
   "id": "7aade1c2-16a0-418c-8427-ad93927c7705",
   "metadata": {},
   "source": [
    "ваши выводы здесь"
   ]
  },
  {
   "cell_type": "markdown",
   "id": "d0247088-9003-455b-a591-a44650f487c3",
   "metadata": {},
   "source": [
    "8. Постройте **диаграмму рассеяния**, показывающую зависимость опыта работы (**\"Опыт работы (месяц)\"**) от возраста (**\"Возраст\"**). Опыт работы переведите из месяцев в года, чтобы признаки были в едином масштабе. Постройте на графике дополнительно прямую, проходящую через точки (0, 0) и (100, 100). Данная прямая соответствует значениям, когда опыт работы равен возрасту человека. Точки, лежащие на этой прямой и выше нее - аномалии в наших данных (опыт работы больше либо равен возрасту соискателя)"
   ]
  },
  {
   "cell_type": "code",
   "execution_count": null,
   "id": "a4143e50-b900-4ec8-9ae9-fc3ec3347287",
   "metadata": {},
   "outputs": [],
   "source": [
    "df = data_HH.copy()\n",
    "df['Опыт работы (год)'] = df['Опыт работы (месяц)'] / 12\n",
    "\n",
    "fig = plt.figure(figsize=(8, 4))\n",
    "axes = fig.add_axes([0, 0, 1, 1])\n",
    "axes.scatter(\n",
    "    x=df['Возраст'], \n",
    "    y=df['Опыт работы (год)'], \n",
    "    s=2,\n",
    "    marker='.',\n",
    "    c = 'blue'\n",
    ")\n",
    "plt.plot([0,100],[0,100])\n",
    "\n",
    "df[df['Опыт работы (год)'] >= df['Возраст']].count()\n"
   ]
  },
  {
   "cell_type": "markdown",
   "id": "6f9218ff-52c7-4742-b328-4db5d4da7262",
   "metadata": {},
   "source": [
    "ваши выводы здесь"
   ]
  },
  {
   "cell_type": "markdown",
   "id": "0cc3b0d5-b551-424d-9956-8da18fce17a1",
   "metadata": {},
   "source": [
    "**Дополнительные баллы**\n",
    "\n",
    "Для получения 2 дополнительных баллов по разведывательному анализу постройте еще два любых содержательных графика или диаграммы, которые помогут проиллюстрировать влияние признаков/взаимосвязь между признаками/распределения признаков. Приведите выводы по ним. Желательно, чтобы в анализе участвовали признаки, которые мы создавали ранее в разделе \"Преобразование данных\".\n"
   ]
  },
  {
   "cell_type": "code",
   "execution_count": null,
   "id": "e273ec66-b8df-41e5-9b99-bdab93dddd85",
   "metadata": {},
   "outputs": [],
   "source": [
    "# ваш код здесь"
   ]
  },
  {
   "cell_type": "markdown",
   "id": "04966e40-3bc3-4dc8-9ba2-e80580ce3abc",
   "metadata": {},
   "source": [
    "ваши выводы здесь"
   ]
  },
  {
   "cell_type": "markdown",
   "id": "b1ef156a-efcb-49ce-bb23-90763e7f35b2",
   "metadata": {
    "tags": []
   },
   "source": [
    "# Очистка данных"
   ]
  },
  {
   "cell_type": "markdown",
   "id": "b9cd50a0-992d-4988-8463-2b2b1c4629b4",
   "metadata": {},
   "source": [
    "1. Начнем с дубликатов в наших данных. Найдите **полные дубликаты** в таблице с резюме и удалите их. "
   ]
  },
  {
   "cell_type": "code",
   "execution_count": 50,
   "id": "54ab0e50-c0f1-47cc-a54b-bc5c8bc363f9",
   "metadata": {},
   "outputs": [
    {
     "data": {
      "text/plain": [
       "161"
      ]
     },
     "execution_count": 50,
     "metadata": {},
     "output_type": "execute_result"
    }
   ],
   "source": [
    "# ваш код здесь\n",
    "df = data_HH.copy()\n",
    "aa = len(df)\n",
    "df = df.drop_duplicates()\n",
    "bb = len(df)\n",
    "aa - bb"
   ]
  },
  {
   "cell_type": "markdown",
   "id": "4dea20cb-a36b-474a-a0b9-e08e8e3857a5",
   "metadata": {},
   "source": [
    "2. Займемся пропусками. Выведите информацию **о числе пропусков** в столбцах. "
   ]
  },
  {
   "cell_type": "code",
   "execution_count": 51,
   "id": "9c61b3c0-bb66-46c9-ae1e-81d3f5752b4a",
   "metadata": {},
   "outputs": [
    {
     "data": {
      "text/plain": [
       "False    44415\n",
       "True       168\n",
       "Name: Опыт работы (месяц), dtype: int64"
      ]
     },
     "execution_count": 51,
     "metadata": {},
     "output_type": "execute_result"
    }
   ],
   "source": [
    "# ваш код здесь\n",
    "df['Опыт работы (месяц)'].isna().value_counts()\n"
   ]
  },
  {
   "cell_type": "markdown",
   "id": "eedceb80-c5ca-480e-b27a-278dfb8b4438",
   "metadata": {},
   "source": [
    "3. Итак, у нас есть пропуски в 3ех столбцах: **\"Опыт работы (месяц)\"**, **\"Последнее/нынешнее место работы\"**, **\"Последняя/нынешняя должность\"**. Поступим следующим образом: удалите строки, где есть пропуск в столбцах с местом работы и должностью. Пропуски в столбце с опытом работы заполните **медианным** значением."
   ]
  },
  {
   "cell_type": "code",
   "execution_count": 52,
   "id": "69621713-0cc5-4f1b-a1d7-bb144fa6148c",
   "metadata": {},
   "outputs": [
    {
     "data": {
      "text/plain": [
       "114.35080753701212"
      ]
     },
     "execution_count": 52,
     "metadata": {},
     "output_type": "execute_result"
    }
   ],
   "source": [
    "# удаление строк с пропусками\n",
    "# df = data_HH.copy()\n",
    "\n",
    "data_isna = df['Последняя/нынешняя должность'].isna()\n",
    "\n",
    "for i in range(len(data_isna)):\n",
    "        if data_isna.iloc[i] == True:\n",
    "                df=df.drop([i])\n",
    "data_isna2 = df['Последнее/нынешнее место работы'].isna()\n",
    "for i in range(len(data_isna2)):\n",
    "        if data_isna2.iloc[i] == True:\n",
    "                df=df.drop([i])\n",
    "\n",
    "values = {'Опыт работы (месяц)': df['Опыт работы (месяц)'].median()}\n",
    "#заполняем пропуски в соответствии с заявленным словарем\n",
    "df = df.fillna(values)\n",
    "# Чему равно результирующее среднее значение в столбце «Опыт работы (месяц)» \n",
    "df['Опыт работы (месяц)'].mean()         \n",
    "               \n"
   ]
  },
  {
   "cell_type": "markdown",
   "id": "1be1e9c6-37cf-4a5f-bfeb-04cab799dc80",
   "metadata": {},
   "source": [
    "4. Мы добрались до ликвидации выбросов. Сначала очистим данные вручную. Удалите резюме, в которых указана заработная плата либо выше 1 млн. рублей, либо ниже 1 тыс. рублей."
   ]
  },
  {
   "cell_type": "code",
   "execution_count": 73,
   "id": "0036a355-9ccf-4564-8b01-73d8194297e7",
   "metadata": {},
   "outputs": [],
   "source": [
    "# ваш код здесь\n",
    "mask = df['ЗП (руб)'] > 1000000\n",
    "mask2 = df['ЗП (руб)'] < 1000\n",
    "\n",
    "del_data = df[mask].index\n",
    "for i in del_data:\n",
    "        df=df.drop([i])\n",
    "del_data2 = df[mask2].index\n",
    "for i in del_data2:\n",
    "        df=df.drop([i])       "
   ]
  },
  {
   "cell_type": "markdown",
   "id": "ec3c8db7-fa21-4a41-a994-1af63742a642",
   "metadata": {},
   "source": [
    "5. В процессе разведывательного анализа мы обнаружили резюме, в которых **опыт работы в годах превышал возраст соискателя**. Найдите такие резюме и удалите их из данных\n"
   ]
  },
  {
   "cell_type": "code",
   "execution_count": null,
   "id": "949132bc-d5b6-4611-8218-0b9a504d74f4",
   "metadata": {},
   "outputs": [],
   "source": [
    "df['Опыт работы (год)'] = df['Опыт работы (месяц)'] / 12\n",
    "del_data = df[df['Опыт работы (год)'] >= df['Возраст']].index\n",
    "\n",
    "for i in del_data:\n",
    "        df=df.drop([i])\n",
    "        \n",
    "# df[df['Опыт работы (год)'] >= df['Возраст']].count()"
   ]
  },
  {
   "cell_type": "markdown",
   "id": "1041c17a-ca8f-4543-a0ca-32778914fb00",
   "metadata": {},
   "source": [
    "6. В результате анализа мы обнаружили потенциальные выбросы в признаке **\"Возраст\"**. Это оказались резюме людей чересчур преклонного возраста для поиска работы. Попробуйте построить распределение признака в **логарифмическом масштабе**. Добавьте к графику линии, отображающие **среднее и границы интервала метода трех сигм**. Напомним, сделать это можно с помощью метода axvline. Например, для построение линии среднего будет иметь вид:\n",
    "\n",
    "`histplot.axvline(log_age.mean(), color='k', lw=2)`\n",
    "\n",
    "В какую сторону асимметрично логарифмическое распределение? Напишите об этом в комментарии к графику.\n",
    "Найдите выбросы с помощью метода z-отклонения и удалите их из данных, используйте логарифмический масштаб. Давайте сделаем послабление на **1 сигму** (возьмите 4 сигмы) в **правую сторону**.\n",
    "\n",
    "Выведите таблицу с полученными выбросами и оцените, с каким возрастом соискатели попадают под категорию выбросов?"
   ]
  },
  {
   "cell_type": "code",
   "execution_count": 97,
   "id": "6a743d39-5204-48d3-8271-b9f88e68d40e",
   "metadata": {},
   "outputs": [
    {
     "name": "stdout",
     "output_type": "stream",
     "text": [
      "Число выбросов по методу z-отклонения: 3\n",
      "Результирующее число записей: 44481\n"
     ]
    }
   ],
   "source": [
    "# ваш код здесь\n",
    "dff = df.copy()\n",
    "def outliers_z_score_mod(data, feature, left=3, right=3, log_scale=True):\n",
    "    if log_scale:\n",
    "        x = np.log(data[feature]+1)\n",
    "    else:\n",
    "        x = data[feature]\n",
    "    mu = x.mean()\n",
    "    sigma = x.std()\n",
    "    lower_bound = mu - left * sigma\n",
    "    upper_bound = mu + right * sigma\n",
    "    outliers = data[(x < lower_bound) | (x > upper_bound)]\n",
    "    cleaned = data[(x > lower_bound) & (x < upper_bound)]\n",
    "    return outliers, cleaned\n",
    "\n",
    "outliers, cleaned = outliers_z_score_mod(dff, 'Возраст', left=3, right=4, log_scale=True)\n",
    "print(f'Число выбросов по методу z-отклонения: {outliers.shape[0]}')\n",
    "print(f'Результирующее число записей: {cleaned.shape[0]}') #'mkad_km',"
   ]
  },
  {
   "cell_type": "code",
   "execution_count": null,
   "id": "94654d8f",
   "metadata": {},
   "outputs": [],
   "source": [
    "log_ = np.log(dff['Возраст'])\n",
    "sns.histplot(log_, bins=30, ax=ax)"
   ]
  },
  {
   "cell_type": "code",
   "execution_count": null,
   "id": "581e00d2",
   "metadata": {},
   "outputs": [],
   "source": [
    "import seaborn as sns\n",
    "\n",
    "fig, ax = plt.subplots(1, 1, figsize=(8, 4))\n",
    "log_mkad_km = np.log(dff['Возраст'])\n",
    "histplot = sns.histplot(log_mkad_km, bins=30, ax=ax)\n",
    "#histplot.axvline(log_mkad_km.mean(), color='k', lw=2)\n",
    "#histplot.axvline(log_mkad_km.mean()+ 3 * log_mkad_km.std(), color='k', ls='--', lw=2)\n",
    "#histplot.axvline(log_mkad_km.mean()- 3 * log_mkad_km.std(), color='k', ls='--', lw=2)\n",
    "histplot.set_title('Возраст')"
   ]
  },
  {
   "cell_type": "markdown",
   "id": "6a7892b4-4113-4746-adce-18aa2844f18e",
   "metadata": {},
   "source": [
    "ваш коммментарий здесь"
   ]
  }
 ],
 "metadata": {
  "kernelspec": {
   "display_name": "Python 3.10.8 64-bit (microsoft store)",
   "language": "python",
   "name": "python3"
  },
  "language_info": {
   "codemirror_mode": {
    "name": "ipython",
    "version": 3
   },
   "file_extension": ".py",
   "mimetype": "text/x-python",
   "name": "python",
   "nbconvert_exporter": "python",
   "pygments_lexer": "ipython3",
   "version": "3.10.8"
  },
  "vscode": {
   "interpreter": {
    "hash": "808737b956214281f5c2e91a609c246c88a0e02a0bf2ac93ca5b44d52ae084d9"
   }
  }
 },
 "nbformat": 4,
 "nbformat_minor": 5
}
